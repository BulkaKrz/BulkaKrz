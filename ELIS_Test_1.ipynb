{
 "cells": [
  {
   "cell_type": "markdown",
   "id": "2a3131bd",
   "metadata": {},
   "source": [
    "# Zastosowanie  Pythona w analizie danych w moim zawodzie \n",
    "### Poniżej opis propozycji wykożystania Pythona w zanalizie danych ziązanych z nadzorowaniem nad umową prania najmu i konserwacji odzieży roboczej\n",
    "\n",
    "#### ID_98\n",
    "#### Grupa:\t1Z132-IS\n",
    "\n",
    "Opis zagadnienia:\n",
    "Nadzór nad umową zakłada wyposażenie pracowników Spółki w odzież której czasookres użytkowania wynosi 50 cykli prań przemysłowych. Wyposażenie zależy od grupy przypisania pracowników. Dane pobieramy z Systemu TETA (informacje o przypisania pracowników do grupy zaopatrzenia. Dane eksportowane w formacie csv) dane z systemów pralniczych firmy zewnętrznej MY_ELIS (dane eksportowane w formacie xmlx)\n",
    "\n",
    "_Z uwagi na ograniczenia czasowe ograniczyłem się do przedstawienia kilku przykładowych czynności_\n"
   ]
  },
  {
   "cell_type": "markdown",
   "id": "260a6def",
   "metadata": {},
   "source": [
    "#### Pracę zaczynamy od importu pakietów\n",
    "***\n",
    "\n",
    "W module os znajduje się szereg funkcji umożliwiających pozyskiwanie informacji na temat plików i folderów znajdujących się na dysku twardym komputera a także tworzenie i usuwanie tychże plików.\n",
    "\n",
    "Modół datetime będziemy wykożystywać do nadania nazwie pliku sygnaturę czasu. \n"
   ]
  },
  {
   "cell_type": "code",
   "execution_count": 1,
   "id": "cec7ef68",
   "metadata": {},
   "outputs": [],
   "source": [
    "import pandas as pd\n",
    "import numpy as np\n",
    "import os\n",
    "import datetime"
   ]
  },
  {
   "cell_type": "markdown",
   "id": "899aa2d9",
   "metadata": {},
   "source": [
    "Najpierw definiujemy ścieżkę z której pobierzemy pliki pobrane z systemu raportowego pralni za pomocą platformy MY_ELIS. Polityka bezpieczeństwa wykonawcy nie pozwala na bezośrednie pobranie danych z bazy danych.\n",
    "Następnie tworzymy zmienną w której zapisujemy pliki znajdujące sięw katalogu.\n",
    "Pliki mają sygnaturę zakładu pralniczego. Wykonawca posiada 6 pralni."
   ]
  },
  {
   "cell_type": "code",
   "execution_count": 2,
   "id": "8c7ed5a8",
   "metadata": {},
   "outputs": [],
   "source": [
    "path = r'F:\\ELIS'      # I'm sorry but I don't share data files"
   ]
  },
  {
   "cell_type": "code",
   "execution_count": 3,
   "id": "2609454d",
   "metadata": {},
   "outputs": [],
   "source": [
    "lista_plikow = os.listdir(path)"
   ]
  },
  {
   "cell_type": "code",
   "execution_count": 4,
   "id": "8905c346",
   "metadata": {},
   "outputs": [
    {
     "data": {
      "text/plain": [
       "6"
      ]
     },
     "execution_count": 4,
     "metadata": {},
     "output_type": "execute_result"
    }
   ],
   "source": [
    "len(lista_plikow)"
   ]
  },
  {
   "cell_type": "code",
   "execution_count": 5,
   "id": "73c1a973",
   "metadata": {},
   "outputs": [
    {
     "name": "stdout",
     "output_type": "stream",
     "text": [
      "['GarmentReport-POZNAŃ.xlsx', 'GarmentReport-SIEMIANOWICE.xlsx', 'GarmentReport-TARNÓW.xlsx', 'GarmentReport-WARSZAWA.xlsx', 'GarmentReport-WROCŁAW.xlsx', 'GarmentReport-ZUKOWO.xlsx']\n"
     ]
    }
   ],
   "source": [
    "print(lista_plikow)"
   ]
  },
  {
   "cell_type": "markdown",
   "id": "640d1b41",
   "metadata": {},
   "source": [
    "#### Wczytujemy przykąłdowy plik aby wstępnie zapoznać sięz danymi"
   ]
  },
  {
   "cell_type": "code",
   "execution_count": 6,
   "id": "f6303f0a",
   "metadata": {},
   "outputs": [],
   "source": [
    "db_0 = pd.read_excel(r'F:\\ELIS\\GarmentReport-POZNAŃ.xlsx')"
   ]
  },
  {
   "cell_type": "code",
   "execution_count": 7,
   "id": "9efbe2de",
   "metadata": {},
   "outputs": [
    {
     "data": {
      "text/html": [
       "<div>\n",
       "<style scoped>\n",
       "    .dataframe tbody tr th:only-of-type {\n",
       "        vertical-align: middle;\n",
       "    }\n",
       "\n",
       "    .dataframe tbody tr th {\n",
       "        vertical-align: top;\n",
       "    }\n",
       "\n",
       "    .dataframe thead th {\n",
       "        text-align: right;\n",
       "    }\n",
       "</style>\n",
       "<table border=\"1\" class=\"dataframe\">\n",
       "  <thead>\n",
       "    <tr style=\"text-align: right;\">\n",
       "      <th></th>\n",
       "      <th>nr adresu dostawy</th>\n",
       "      <th>Nazwa</th>\n",
       "      <th>Tożsamość odzieży</th>\n",
       "      <th>Nr artykułu</th>\n",
       "      <th>Opis</th>\n",
       "      <th>Rozmiar</th>\n",
       "      <th>Ostatnie pranie</th>\n",
       "      <th>Wkład</th>\n",
       "      <th>Ilość prań</th>\n",
       "      <th>Typ</th>\n",
       "      <th>...</th>\n",
       "      <th>Nr konta</th>\n",
       "      <th>Nr zatrud.</th>\n",
       "      <th>Imię</th>\n",
       "      <th>Nazwisko</th>\n",
       "      <th>Dział</th>\n",
       "      <th>Szafka</th>\n",
       "      <th>Skrytka</th>\n",
       "      <th>Liczba prań dla aktualnego użytkownika odzieży.</th>\n",
       "      <th>Zakończył</th>\n",
       "      <th>Wartość resztkowa</th>\n",
       "    </tr>\n",
       "  </thead>\n",
       "  <tbody>\n",
       "    <tr>\n",
       "      <th>0</th>\n",
       "      <td>708751</td>\n",
       "      <td>GAZ - SYSTEM O/ POZNAŃ GROBLA</td>\n",
       "      <td>40000FA2717</td>\n",
       "      <td>101045</td>\n",
       "      <td>BLUZA GRANAT-ŻÓŁTY HIVI MULTIOCHR LOGO</td>\n",
       "      <td>50</td>\n",
       "      <td>2022-08-30</td>\n",
       "      <td>2022-08-30</td>\n",
       "      <td>1</td>\n",
       "      <td>ARTYKUŁY WYNAJMOWANE</td>\n",
       "      <td>...</td>\n",
       "      <td>P130552</td>\n",
       "      <td>82</td>\n",
       "      <td>P0000751</td>\n",
       "      <td>NaN</td>\n",
       "      <td>NaN</td>\n",
       "      <td>512.0</td>\n",
       "      <td>3.0</td>\n",
       "      <td>0</td>\n",
       "      <td>NaN</td>\n",
       "      <td>234.22</td>\n",
       "    </tr>\n",
       "    <tr>\n",
       "      <th>1</th>\n",
       "      <td>708751</td>\n",
       "      <td>GAZ - SYSTEM O/ POZNAŃ GROBLA</td>\n",
       "      <td>40000FA2FD0</td>\n",
       "      <td>101045</td>\n",
       "      <td>BLUZA GRANAT-ŻÓŁTY HIVI MULTIOCHR LOGO</td>\n",
       "      <td>NS</td>\n",
       "      <td>2021-01-05</td>\n",
       "      <td>2021-01-05</td>\n",
       "      <td>0</td>\n",
       "      <td>ARTYKUŁY WYNAJMOWANE</td>\n",
       "      <td>...</td>\n",
       "      <td>C181459</td>\n",
       "      <td>3</td>\n",
       "      <td>C0000765</td>\n",
       "      <td>NaN</td>\n",
       "      <td>3.0</td>\n",
       "      <td>500.0</td>\n",
       "      <td>3.0</td>\n",
       "      <td>0</td>\n",
       "      <td>NaN</td>\n",
       "      <td>239.00</td>\n",
       "    </tr>\n",
       "    <tr>\n",
       "      <th>2</th>\n",
       "      <td>708751</td>\n",
       "      <td>GAZ - SYSTEM O/ POZNAŃ GROBLA</td>\n",
       "      <td>40000FA32B7</td>\n",
       "      <td>101045</td>\n",
       "      <td>BLUZA GRANAT-ŻÓŁTY HIVI MULTIOCHR LOGO</td>\n",
       "      <td>NS</td>\n",
       "      <td>2021-01-05</td>\n",
       "      <td>2021-01-05</td>\n",
       "      <td>0</td>\n",
       "      <td>ARTYKUŁY WYNAJMOWANE</td>\n",
       "      <td>...</td>\n",
       "      <td>C181459</td>\n",
       "      <td>3</td>\n",
       "      <td>C0000765</td>\n",
       "      <td>NaN</td>\n",
       "      <td>3.0</td>\n",
       "      <td>500.0</td>\n",
       "      <td>3.0</td>\n",
       "      <td>0</td>\n",
       "      <td>NaN</td>\n",
       "      <td>239.00</td>\n",
       "    </tr>\n",
       "    <tr>\n",
       "      <th>3</th>\n",
       "      <td>708751</td>\n",
       "      <td>GAZ - SYSTEM O/ POZNAŃ GROBLA</td>\n",
       "      <td>40000FA32ED</td>\n",
       "      <td>101045</td>\n",
       "      <td>BLUZA GRANAT-ŻÓŁTY HIVI MULTIOCHR LOGO</td>\n",
       "      <td>NS</td>\n",
       "      <td>2020-12-30</td>\n",
       "      <td>2020-12-30</td>\n",
       "      <td>0</td>\n",
       "      <td>ARTYKUŁY WYNAJMOWANE</td>\n",
       "      <td>...</td>\n",
       "      <td>P130252</td>\n",
       "      <td>26</td>\n",
       "      <td>P0000067</td>\n",
       "      <td>NaN</td>\n",
       "      <td>5.0</td>\n",
       "      <td>505.0</td>\n",
       "      <td>1.0</td>\n",
       "      <td>0</td>\n",
       "      <td>NaN</td>\n",
       "      <td>234.22</td>\n",
       "    </tr>\n",
       "    <tr>\n",
       "      <th>4</th>\n",
       "      <td>708751</td>\n",
       "      <td>GAZ - SYSTEM O/ POZNAŃ GROBLA</td>\n",
       "      <td>6C0001B13AC</td>\n",
       "      <td>101045</td>\n",
       "      <td>BLUZA GRANAT-ŻÓŁTY HIVI MULTIOCHR LOGO</td>\n",
       "      <td>52</td>\n",
       "      <td>2022-11-16</td>\n",
       "      <td>2022-11-15</td>\n",
       "      <td>1</td>\n",
       "      <td>ARTYKUŁY WYNAJMOWANE</td>\n",
       "      <td>...</td>\n",
       "      <td>P130552</td>\n",
       "      <td>87</td>\n",
       "      <td>P0000758</td>\n",
       "      <td>NaN</td>\n",
       "      <td>NaN</td>\n",
       "      <td>512.0</td>\n",
       "      <td>5.0</td>\n",
       "      <td>1</td>\n",
       "      <td>NaN</td>\n",
       "      <td>654.86</td>\n",
       "    </tr>\n",
       "  </tbody>\n",
       "</table>\n",
       "<p>5 rows × 21 columns</p>\n",
       "</div>"
      ],
      "text/plain": [
       "   nr adresu dostawy                          Nazwa Tożsamość odzieży  \\\n",
       "0             708751  GAZ - SYSTEM O/ POZNAŃ GROBLA       40000FA2717   \n",
       "1             708751  GAZ - SYSTEM O/ POZNAŃ GROBLA       40000FA2FD0   \n",
       "2             708751  GAZ - SYSTEM O/ POZNAŃ GROBLA       40000FA32B7   \n",
       "3             708751  GAZ - SYSTEM O/ POZNAŃ GROBLA       40000FA32ED   \n",
       "4             708751  GAZ - SYSTEM O/ POZNAŃ GROBLA       6C0001B13AC   \n",
       "\n",
       "   Nr artykułu                                    Opis Rozmiar  \\\n",
       "0       101045  BLUZA GRANAT-ŻÓŁTY HIVI MULTIOCHR LOGO      50   \n",
       "1       101045  BLUZA GRANAT-ŻÓŁTY HIVI MULTIOCHR LOGO      NS   \n",
       "2       101045  BLUZA GRANAT-ŻÓŁTY HIVI MULTIOCHR LOGO      NS   \n",
       "3       101045  BLUZA GRANAT-ŻÓŁTY HIVI MULTIOCHR LOGO      NS   \n",
       "4       101045  BLUZA GRANAT-ŻÓŁTY HIVI MULTIOCHR LOGO      52   \n",
       "\n",
       "  Ostatnie pranie      Wkład  Ilość prań                   Typ  ... Nr konta  \\\n",
       "0      2022-08-30 2022-08-30           1  ARTYKUŁY WYNAJMOWANE  ...  P130552   \n",
       "1      2021-01-05 2021-01-05           0  ARTYKUŁY WYNAJMOWANE  ...  C181459   \n",
       "2      2021-01-05 2021-01-05           0  ARTYKUŁY WYNAJMOWANE  ...  C181459   \n",
       "3      2020-12-30 2020-12-30           0  ARTYKUŁY WYNAJMOWANE  ...  P130252   \n",
       "4      2022-11-16 2022-11-15           1  ARTYKUŁY WYNAJMOWANE  ...  P130552   \n",
       "\n",
       "  Nr zatrud.      Imię Nazwisko Dział  Szafka  Skrytka  \\\n",
       "0         82  P0000751      NaN   NaN   512.0      3.0   \n",
       "1          3  C0000765      NaN   3.0   500.0      3.0   \n",
       "2          3  C0000765      NaN   3.0   500.0      3.0   \n",
       "3         26  P0000067      NaN   5.0   505.0      1.0   \n",
       "4         87  P0000758      NaN   NaN   512.0      5.0   \n",
       "\n",
       "   Liczba prań dla aktualnego użytkownika odzieży.  Zakończył  \\\n",
       "0                                                0        NaN   \n",
       "1                                                0        NaN   \n",
       "2                                                0        NaN   \n",
       "3                                                0        NaN   \n",
       "4                                                1        NaN   \n",
       "\n",
       "  Wartość resztkowa  \n",
       "0            234.22  \n",
       "1            239.00  \n",
       "2            239.00  \n",
       "3            234.22  \n",
       "4            654.86  \n",
       "\n",
       "[5 rows x 21 columns]"
      ]
     },
     "execution_count": 7,
     "metadata": {},
     "output_type": "execute_result"
    }
   ],
   "source": [
    "db_0.head()"
   ]
  },
  {
   "cell_type": "code",
   "execution_count": 8,
   "id": "badbb931",
   "metadata": {},
   "outputs": [
    {
     "name": "stdout",
     "output_type": "stream",
     "text": [
      "<class 'pandas.core.frame.DataFrame'>\n",
      "RangeIndex: 9382 entries, 0 to 9381\n",
      "Data columns (total 21 columns):\n",
      " #   Column                                           Non-Null Count  Dtype         \n",
      "---  ------                                           --------------  -----         \n",
      " 0   nr adresu dostawy                                9382 non-null   int64         \n",
      " 1   Nazwa                                            9382 non-null   object        \n",
      " 2   Tożsamość odzieży                                9382 non-null   object        \n",
      " 3   Nr artykułu                                      9382 non-null   int64         \n",
      " 4   Opis                                             9382 non-null   object        \n",
      " 5   Rozmiar                                          9382 non-null   object        \n",
      " 6   Ostatnie pranie                                  9382 non-null   datetime64[ns]\n",
      " 7   Wkład                                            9382 non-null   datetime64[ns]\n",
      " 8   Ilość prań                                       9382 non-null   int64         \n",
      " 9   Typ                                              9382 non-null   object        \n",
      " 10  Oznakowania                                      678 non-null    object        \n",
      " 11  Nr konta                                         9381 non-null   object        \n",
      " 12  Nr zatrud.                                       9381 non-null   object        \n",
      " 13  Imię                                             9381 non-null   object        \n",
      " 14  Nazwisko                                         5 non-null      object        \n",
      " 15  Dział                                            5185 non-null   float64       \n",
      " 16  Szafka                                           7535 non-null   float64       \n",
      " 17  Skrytka                                          7535 non-null   float64       \n",
      " 18  Liczba prań dla aktualnego użytkownika odzieży.  9382 non-null   int64         \n",
      " 19  Zakończył                                        23 non-null     object        \n",
      " 20  Wartość resztkowa                                9382 non-null   float64       \n",
      "dtypes: datetime64[ns](2), float64(4), int64(4), object(11)\n",
      "memory usage: 1.5+ MB\n"
     ]
    }
   ],
   "source": [
    "db_0.info()"
   ]
  },
  {
   "cell_type": "code",
   "execution_count": 9,
   "id": "5d6d30f9",
   "metadata": {},
   "outputs": [
    {
     "data": {
      "text/plain": [
       "Index(['nr adresu dostawy', 'Nazwa', 'Tożsamość odzieży', 'Nr artykułu',\n",
       "       'Opis', 'Rozmiar', 'Ostatnie pranie', 'Wkład', 'Ilość prań', 'Typ',\n",
       "       'Oznakowania', 'Nr konta', 'Nr zatrud.', 'Imię', 'Nazwisko', 'Dział',\n",
       "       'Szafka', 'Skrytka', 'Liczba prań dla aktualnego użytkownika odzieży.',\n",
       "       'Zakończył', 'Wartość resztkowa'],\n",
       "      dtype='object')"
      ]
     },
     "execution_count": 9,
     "metadata": {},
     "output_type": "execute_result"
    }
   ],
   "source": [
    "db_0.columns"
   ]
  },
  {
   "cell_type": "markdown",
   "id": "576c29d7",
   "metadata": {},
   "source": [
    "Do dalszej analizy (prykładu) nie będziemy potrzebować wszystkich kolumn. Przegląd pliku był potrzebny do wybrania danych niezbędnych do dalszej analizy.\n",
    "\n",
    "w tym przypadku wybrano: \n",
    "\n",
    "    *'Nazwa' - *nazwa jednostki do której jest przypisana odzież* \n",
    "    *'Tożsamość odzieży' - *unikalna nazwa konkretnej sztuki odzieży*\n",
    "    *'Opis' - *opis typu odzież *\n",
    "    *'Ilość prań' - *ilość prań na danej sztuce odzieży*\n",
    "    *'Typ' - *opisuje własność odzieży*\n",
    "    *'Imię','Liczba prań dla aktualnego użytkownika odzieży.'\n",
    "\n"
   ]
  },
  {
   "cell_type": "code",
   "execution_count": 10,
   "id": "29a898ee",
   "metadata": {},
   "outputs": [],
   "source": [
    "number =1"
   ]
  },
  {
   "cell_type": "markdown",
   "id": "8c457e6a",
   "metadata": {},
   "source": [
    "### Wczytujemy pliki z katalogu \n",
    "***\n",
    "wykożystujemy do tego pętle *for* w celu automatycznego utworzenia zmiennej używamy funkcji globals()\n"
   ]
  },
  {
   "cell_type": "code",
   "execution_count": 11,
   "id": "6c285bbf",
   "metadata": {},
   "outputs": [],
   "source": [
    "for i in lista_plikow:\n",
    "    a = os.path.join(path,i)\n",
    "    globals()['db_{}'.format(number)] = pd.read_excel(a, usecols=['Nazwa','Tożsamość odzieży','Opis', 'Ilość prań', 'Typ','Imię','Liczba prań dla aktualnego użytkownika odzieży.' ])\n",
    "    number +=1"
   ]
  },
  {
   "cell_type": "markdown",
   "id": "f220202c",
   "metadata": {},
   "source": [
    "\n",
    "Możemy podglądnąć przykładowe dataframe które powstały z wczytania plików\n"
   ]
  },
  {
   "cell_type": "code",
   "execution_count": 12,
   "id": "77954a2a",
   "metadata": {},
   "outputs": [
    {
     "data": {
      "text/html": [
       "<div>\n",
       "<style scoped>\n",
       "    .dataframe tbody tr th:only-of-type {\n",
       "        vertical-align: middle;\n",
       "    }\n",
       "\n",
       "    .dataframe tbody tr th {\n",
       "        vertical-align: top;\n",
       "    }\n",
       "\n",
       "    .dataframe thead th {\n",
       "        text-align: right;\n",
       "    }\n",
       "</style>\n",
       "<table border=\"1\" class=\"dataframe\">\n",
       "  <thead>\n",
       "    <tr style=\"text-align: right;\">\n",
       "      <th></th>\n",
       "      <th>Nazwa</th>\n",
       "      <th>Tożsamość odzieży</th>\n",
       "      <th>Opis</th>\n",
       "      <th>Ilość prań</th>\n",
       "      <th>Typ</th>\n",
       "      <th>Imię</th>\n",
       "      <th>Liczba prań dla aktualnego użytkownika odzieży.</th>\n",
       "    </tr>\n",
       "  </thead>\n",
       "  <tbody>\n",
       "    <tr>\n",
       "      <th>0</th>\n",
       "      <td>GAZ - SYSTEM O/ POZNAŃ GROBLA</td>\n",
       "      <td>40000FA2717</td>\n",
       "      <td>BLUZA GRANAT-ŻÓŁTY HIVI MULTIOCHR LOGO</td>\n",
       "      <td>1</td>\n",
       "      <td>ARTYKUŁY WYNAJMOWANE</td>\n",
       "      <td>P0000751</td>\n",
       "      <td>0</td>\n",
       "    </tr>\n",
       "    <tr>\n",
       "      <th>1</th>\n",
       "      <td>GAZ - SYSTEM O/ POZNAŃ GROBLA</td>\n",
       "      <td>40000FA2FD0</td>\n",
       "      <td>BLUZA GRANAT-ŻÓŁTY HIVI MULTIOCHR LOGO</td>\n",
       "      <td>0</td>\n",
       "      <td>ARTYKUŁY WYNAJMOWANE</td>\n",
       "      <td>C0000765</td>\n",
       "      <td>0</td>\n",
       "    </tr>\n",
       "    <tr>\n",
       "      <th>2</th>\n",
       "      <td>GAZ - SYSTEM O/ POZNAŃ GROBLA</td>\n",
       "      <td>40000FA32B7</td>\n",
       "      <td>BLUZA GRANAT-ŻÓŁTY HIVI MULTIOCHR LOGO</td>\n",
       "      <td>0</td>\n",
       "      <td>ARTYKUŁY WYNAJMOWANE</td>\n",
       "      <td>C0000765</td>\n",
       "      <td>0</td>\n",
       "    </tr>\n",
       "    <tr>\n",
       "      <th>3</th>\n",
       "      <td>GAZ - SYSTEM O/ POZNAŃ GROBLA</td>\n",
       "      <td>40000FA32ED</td>\n",
       "      <td>BLUZA GRANAT-ŻÓŁTY HIVI MULTIOCHR LOGO</td>\n",
       "      <td>0</td>\n",
       "      <td>ARTYKUŁY WYNAJMOWANE</td>\n",
       "      <td>P0000067</td>\n",
       "      <td>0</td>\n",
       "    </tr>\n",
       "    <tr>\n",
       "      <th>4</th>\n",
       "      <td>GAZ - SYSTEM O/ POZNAŃ GROBLA</td>\n",
       "      <td>6C0001B13AC</td>\n",
       "      <td>BLUZA GRANAT-ŻÓŁTY HIVI MULTIOCHR LOGO</td>\n",
       "      <td>1</td>\n",
       "      <td>ARTYKUŁY WYNAJMOWANE</td>\n",
       "      <td>P0000758</td>\n",
       "      <td>1</td>\n",
       "    </tr>\n",
       "  </tbody>\n",
       "</table>\n",
       "</div>"
      ],
      "text/plain": [
       "                           Nazwa Tożsamość odzieży  \\\n",
       "0  GAZ - SYSTEM O/ POZNAŃ GROBLA       40000FA2717   \n",
       "1  GAZ - SYSTEM O/ POZNAŃ GROBLA       40000FA2FD0   \n",
       "2  GAZ - SYSTEM O/ POZNAŃ GROBLA       40000FA32B7   \n",
       "3  GAZ - SYSTEM O/ POZNAŃ GROBLA       40000FA32ED   \n",
       "4  GAZ - SYSTEM O/ POZNAŃ GROBLA       6C0001B13AC   \n",
       "\n",
       "                                     Opis  Ilość prań                   Typ  \\\n",
       "0  BLUZA GRANAT-ŻÓŁTY HIVI MULTIOCHR LOGO           1  ARTYKUŁY WYNAJMOWANE   \n",
       "1  BLUZA GRANAT-ŻÓŁTY HIVI MULTIOCHR LOGO           0  ARTYKUŁY WYNAJMOWANE   \n",
       "2  BLUZA GRANAT-ŻÓŁTY HIVI MULTIOCHR LOGO           0  ARTYKUŁY WYNAJMOWANE   \n",
       "3  BLUZA GRANAT-ŻÓŁTY HIVI MULTIOCHR LOGO           0  ARTYKUŁY WYNAJMOWANE   \n",
       "4  BLUZA GRANAT-ŻÓŁTY HIVI MULTIOCHR LOGO           1  ARTYKUŁY WYNAJMOWANE   \n",
       "\n",
       "       Imię  Liczba prań dla aktualnego użytkownika odzieży.  \n",
       "0  P0000751                                                0  \n",
       "1  C0000765                                                0  \n",
       "2  C0000765                                                0  \n",
       "3  P0000067                                                0  \n",
       "4  P0000758                                                1  "
      ]
     },
     "execution_count": 12,
     "metadata": {},
     "output_type": "execute_result"
    }
   ],
   "source": [
    "db_1.head()"
   ]
  },
  {
   "cell_type": "code",
   "execution_count": 13,
   "id": "8d64dc68",
   "metadata": {},
   "outputs": [
    {
     "data": {
      "text/html": [
       "<div>\n",
       "<style scoped>\n",
       "    .dataframe tbody tr th:only-of-type {\n",
       "        vertical-align: middle;\n",
       "    }\n",
       "\n",
       "    .dataframe tbody tr th {\n",
       "        vertical-align: top;\n",
       "    }\n",
       "\n",
       "    .dataframe thead th {\n",
       "        text-align: right;\n",
       "    }\n",
       "</style>\n",
       "<table border=\"1\" class=\"dataframe\">\n",
       "  <thead>\n",
       "    <tr style=\"text-align: right;\">\n",
       "      <th></th>\n",
       "      <th>Nazwa</th>\n",
       "      <th>Tożsamość odzieży</th>\n",
       "      <th>Opis</th>\n",
       "      <th>Ilość prań</th>\n",
       "      <th>Typ</th>\n",
       "      <th>Imię</th>\n",
       "      <th>Liczba prań dla aktualnego użytkownika odzieży.</th>\n",
       "    </tr>\n",
       "  </thead>\n",
       "  <tbody>\n",
       "    <tr>\n",
       "      <th>0</th>\n",
       "      <td>GAZ-SYSTEM O/ŚWIERKLANY BIELSKO</td>\n",
       "      <td>40000F9B71A</td>\n",
       "      <td>BLUZA GRANAT-ŻÓŁTY HIVI MULTIOCHR LOGO</td>\n",
       "      <td>1</td>\n",
       "      <td>ARTYKUŁY WYNAJMOWANE</td>\n",
       "      <td>S0408788</td>\n",
       "      <td>1</td>\n",
       "    </tr>\n",
       "    <tr>\n",
       "      <th>1</th>\n",
       "      <td>GAZ-SYSTEM O/ŚWIERKLANY BIELSKO</td>\n",
       "      <td>40000FA15C4</td>\n",
       "      <td>BLUZA GRANAT-ŻÓŁTY HIVI MULTIOCHR LOGO</td>\n",
       "      <td>5</td>\n",
       "      <td>ARTYKUŁY WYNAJMOWANE</td>\n",
       "      <td>S0456412</td>\n",
       "      <td>5</td>\n",
       "    </tr>\n",
       "    <tr>\n",
       "      <th>2</th>\n",
       "      <td>GAZ-SYSTEM O/ŚWIERKLANY BIELSKO</td>\n",
       "      <td>40000FA2595</td>\n",
       "      <td>BLUZA GRANAT-ŻÓŁTY HIVI MULTIOCHR LOGO</td>\n",
       "      <td>0</td>\n",
       "      <td>ARTYKUŁY WYNAJMOWANE</td>\n",
       "      <td>S0466638</td>\n",
       "      <td>0</td>\n",
       "    </tr>\n",
       "    <tr>\n",
       "      <th>3</th>\n",
       "      <td>GAZ-SYSTEM O/ŚWIERKLANY BIELSKO</td>\n",
       "      <td>40000FA25F7</td>\n",
       "      <td>BLUZA GRANAT-ŻÓŁTY HIVI MULTIOCHR LOGO</td>\n",
       "      <td>0</td>\n",
       "      <td>ARTYKUŁY WYNAJMOWANE</td>\n",
       "      <td>S0466638</td>\n",
       "      <td>0</td>\n",
       "    </tr>\n",
       "    <tr>\n",
       "      <th>4</th>\n",
       "      <td>GAZ-SYSTEM O/ŚWIERKLANY BIELSKO</td>\n",
       "      <td>40000FA2627</td>\n",
       "      <td>BLUZA GRANAT-ŻÓŁTY HIVI MULTIOCHR LOGO</td>\n",
       "      <td>0</td>\n",
       "      <td>ARTYKUŁY WYNAJMOWANE</td>\n",
       "      <td>S0466638</td>\n",
       "      <td>0</td>\n",
       "    </tr>\n",
       "  </tbody>\n",
       "</table>\n",
       "</div>"
      ],
      "text/plain": [
       "                             Nazwa Tożsamość odzieży  \\\n",
       "0  GAZ-SYSTEM O/ŚWIERKLANY BIELSKO       40000F9B71A   \n",
       "1  GAZ-SYSTEM O/ŚWIERKLANY BIELSKO       40000FA15C4   \n",
       "2  GAZ-SYSTEM O/ŚWIERKLANY BIELSKO       40000FA2595   \n",
       "3  GAZ-SYSTEM O/ŚWIERKLANY BIELSKO       40000FA25F7   \n",
       "4  GAZ-SYSTEM O/ŚWIERKLANY BIELSKO       40000FA2627   \n",
       "\n",
       "                                     Opis  Ilość prań                   Typ  \\\n",
       "0  BLUZA GRANAT-ŻÓŁTY HIVI MULTIOCHR LOGO           1  ARTYKUŁY WYNAJMOWANE   \n",
       "1  BLUZA GRANAT-ŻÓŁTY HIVI MULTIOCHR LOGO           5  ARTYKUŁY WYNAJMOWANE   \n",
       "2  BLUZA GRANAT-ŻÓŁTY HIVI MULTIOCHR LOGO           0  ARTYKUŁY WYNAJMOWANE   \n",
       "3  BLUZA GRANAT-ŻÓŁTY HIVI MULTIOCHR LOGO           0  ARTYKUŁY WYNAJMOWANE   \n",
       "4  BLUZA GRANAT-ŻÓŁTY HIVI MULTIOCHR LOGO           0  ARTYKUŁY WYNAJMOWANE   \n",
       "\n",
       "       Imię  Liczba prań dla aktualnego użytkownika odzieży.  \n",
       "0  S0408788                                                1  \n",
       "1  S0456412                                                5  \n",
       "2  S0466638                                                0  \n",
       "3  S0466638                                                0  \n",
       "4  S0466638                                                0  "
      ]
     },
     "execution_count": 13,
     "metadata": {},
     "output_type": "execute_result"
    }
   ],
   "source": [
    "db_2.head()"
   ]
  },
  {
   "cell_type": "code",
   "execution_count": 14,
   "id": "3abf37be",
   "metadata": {},
   "outputs": [
    {
     "data": {
      "text/plain": [
       "(9382, 7)"
      ]
     },
     "execution_count": 14,
     "metadata": {},
     "output_type": "execute_result"
    }
   ],
   "source": [
    "db_1.shape"
   ]
  },
  {
   "cell_type": "code",
   "execution_count": 15,
   "id": "45edb5b5",
   "metadata": {},
   "outputs": [
    {
     "name": "stdout",
     "output_type": "stream",
     "text": [
      "<class 'pandas.core.frame.DataFrame'>\n",
      "RangeIndex: 9382 entries, 0 to 9381\n",
      "Data columns (total 7 columns):\n",
      " #   Column                                           Non-Null Count  Dtype \n",
      "---  ------                                           --------------  ----- \n",
      " 0   Nazwa                                            9382 non-null   object\n",
      " 1   Tożsamość odzieży                                9382 non-null   object\n",
      " 2   Opis                                             9382 non-null   object\n",
      " 3   Ilość prań                                       9382 non-null   int64 \n",
      " 4   Typ                                              9382 non-null   object\n",
      " 5   Imię                                             9381 non-null   object\n",
      " 6   Liczba prań dla aktualnego użytkownika odzieży.  9382 non-null   int64 \n",
      "dtypes: int64(2), object(5)\n",
      "memory usage: 513.2+ KB\n"
     ]
    }
   ],
   "source": [
    "db_1.info()"
   ]
  },
  {
   "cell_type": "markdown",
   "id": "5c8bd3d3",
   "metadata": {},
   "source": [
    "Łączymy wczytane dane w jedną dataframe"
   ]
  },
  {
   "cell_type": "code",
   "execution_count": 16,
   "id": "ba3564c4",
   "metadata": {},
   "outputs": [],
   "source": [
    "df = pd.concat(objs=(db_1, db_2, db_3, db_4, db_5 ,db_6), ignore_index=True)"
   ]
  },
  {
   "cell_type": "code",
   "execution_count": 17,
   "id": "ca5ad2b4",
   "metadata": {},
   "outputs": [
    {
     "data": {
      "text/html": [
       "<div>\n",
       "<style scoped>\n",
       "    .dataframe tbody tr th:only-of-type {\n",
       "        vertical-align: middle;\n",
       "    }\n",
       "\n",
       "    .dataframe tbody tr th {\n",
       "        vertical-align: top;\n",
       "    }\n",
       "\n",
       "    .dataframe thead th {\n",
       "        text-align: right;\n",
       "    }\n",
       "</style>\n",
       "<table border=\"1\" class=\"dataframe\">\n",
       "  <thead>\n",
       "    <tr style=\"text-align: right;\">\n",
       "      <th></th>\n",
       "      <th>Nazwa</th>\n",
       "      <th>Tożsamość odzieży</th>\n",
       "      <th>Opis</th>\n",
       "      <th>Ilość prań</th>\n",
       "      <th>Typ</th>\n",
       "      <th>Imię</th>\n",
       "      <th>Liczba prań dla aktualnego użytkownika odzieży.</th>\n",
       "    </tr>\n",
       "  </thead>\n",
       "  <tbody>\n",
       "    <tr>\n",
       "      <th>0</th>\n",
       "      <td>GAZ - SYSTEM O/ POZNAŃ GROBLA</td>\n",
       "      <td>40000FA2717</td>\n",
       "      <td>BLUZA GRANAT-ŻÓŁTY HIVI MULTIOCHR LOGO</td>\n",
       "      <td>1</td>\n",
       "      <td>ARTYKUŁY WYNAJMOWANE</td>\n",
       "      <td>P0000751</td>\n",
       "      <td>0</td>\n",
       "    </tr>\n",
       "    <tr>\n",
       "      <th>1</th>\n",
       "      <td>GAZ - SYSTEM O/ POZNAŃ GROBLA</td>\n",
       "      <td>40000FA2FD0</td>\n",
       "      <td>BLUZA GRANAT-ŻÓŁTY HIVI MULTIOCHR LOGO</td>\n",
       "      <td>0</td>\n",
       "      <td>ARTYKUŁY WYNAJMOWANE</td>\n",
       "      <td>C0000765</td>\n",
       "      <td>0</td>\n",
       "    </tr>\n",
       "    <tr>\n",
       "      <th>2</th>\n",
       "      <td>GAZ - SYSTEM O/ POZNAŃ GROBLA</td>\n",
       "      <td>40000FA32B7</td>\n",
       "      <td>BLUZA GRANAT-ŻÓŁTY HIVI MULTIOCHR LOGO</td>\n",
       "      <td>0</td>\n",
       "      <td>ARTYKUŁY WYNAJMOWANE</td>\n",
       "      <td>C0000765</td>\n",
       "      <td>0</td>\n",
       "    </tr>\n",
       "    <tr>\n",
       "      <th>3</th>\n",
       "      <td>GAZ - SYSTEM O/ POZNAŃ GROBLA</td>\n",
       "      <td>40000FA32ED</td>\n",
       "      <td>BLUZA GRANAT-ŻÓŁTY HIVI MULTIOCHR LOGO</td>\n",
       "      <td>0</td>\n",
       "      <td>ARTYKUŁY WYNAJMOWANE</td>\n",
       "      <td>P0000067</td>\n",
       "      <td>0</td>\n",
       "    </tr>\n",
       "    <tr>\n",
       "      <th>4</th>\n",
       "      <td>GAZ - SYSTEM O/ POZNAŃ GROBLA</td>\n",
       "      <td>6C0001B13AC</td>\n",
       "      <td>BLUZA GRANAT-ŻÓŁTY HIVI MULTIOCHR LOGO</td>\n",
       "      <td>1</td>\n",
       "      <td>ARTYKUŁY WYNAJMOWANE</td>\n",
       "      <td>P0000758</td>\n",
       "      <td>1</td>\n",
       "    </tr>\n",
       "  </tbody>\n",
       "</table>\n",
       "</div>"
      ],
      "text/plain": [
       "                           Nazwa Tożsamość odzieży  \\\n",
       "0  GAZ - SYSTEM O/ POZNAŃ GROBLA       40000FA2717   \n",
       "1  GAZ - SYSTEM O/ POZNAŃ GROBLA       40000FA2FD0   \n",
       "2  GAZ - SYSTEM O/ POZNAŃ GROBLA       40000FA32B7   \n",
       "3  GAZ - SYSTEM O/ POZNAŃ GROBLA       40000FA32ED   \n",
       "4  GAZ - SYSTEM O/ POZNAŃ GROBLA       6C0001B13AC   \n",
       "\n",
       "                                     Opis  Ilość prań                   Typ  \\\n",
       "0  BLUZA GRANAT-ŻÓŁTY HIVI MULTIOCHR LOGO           1  ARTYKUŁY WYNAJMOWANE   \n",
       "1  BLUZA GRANAT-ŻÓŁTY HIVI MULTIOCHR LOGO           0  ARTYKUŁY WYNAJMOWANE   \n",
       "2  BLUZA GRANAT-ŻÓŁTY HIVI MULTIOCHR LOGO           0  ARTYKUŁY WYNAJMOWANE   \n",
       "3  BLUZA GRANAT-ŻÓŁTY HIVI MULTIOCHR LOGO           0  ARTYKUŁY WYNAJMOWANE   \n",
       "4  BLUZA GRANAT-ŻÓŁTY HIVI MULTIOCHR LOGO           1  ARTYKUŁY WYNAJMOWANE   \n",
       "\n",
       "       Imię  Liczba prań dla aktualnego użytkownika odzieży.  \n",
       "0  P0000751                                                0  \n",
       "1  C0000765                                                0  \n",
       "2  C0000765                                                0  \n",
       "3  P0000067                                                0  \n",
       "4  P0000758                                                1  "
      ]
     },
     "execution_count": 17,
     "metadata": {},
     "output_type": "execute_result"
    }
   ],
   "source": [
    "df.head()"
   ]
  },
  {
   "cell_type": "code",
   "execution_count": 19,
   "id": "e2be5fb3",
   "metadata": {},
   "outputs": [
    {
     "data": {
      "text/plain": [
       "(34691, 7)"
      ]
     },
     "execution_count": 19,
     "metadata": {},
     "output_type": "execute_result"
    }
   ],
   "source": [
    "df.shape"
   ]
  },
  {
   "cell_type": "markdown",
   "id": "c66b0974",
   "metadata": {},
   "source": [
    "Proszęzwrócić uwagę na ilość wierszy w dataframe db_1 miało 9382 po połączeniu df ma 34691"
   ]
  },
  {
   "cell_type": "code",
   "execution_count": 20,
   "id": "c41cc68c",
   "metadata": {},
   "outputs": [
    {
     "data": {
      "text/plain": [
       "array(['ARTYKUŁY WYNAJMOWANE', 'WŁASNOŚĆ KLIENTA'], dtype=object)"
      ]
     },
     "execution_count": 20,
     "metadata": {},
     "output_type": "execute_result"
    }
   ],
   "source": [
    "df['Typ'].unique()"
   ]
  },
  {
   "cell_type": "code",
   "execution_count": 21,
   "id": "39635498",
   "metadata": {},
   "outputs": [
    {
     "data": {
      "text/plain": [
       "array(['BLUZA GRANAT-ŻÓŁTY HIVI MULTIOCHR LOGO',\n",
       "       'BLUZY - WŁASNOŚĆ KLIENTA GAZ SYSTEM',\n",
       "       'KAMIZELKA - WŁASNOŚĆ KLIENTA GAZ SYSTEM',\n",
       "       'KURTKA OC. M GRANAT-ŻÓŁT MULTI HIVI LOGO',\n",
       "       'KURTKI - WŁASNOŚĆ KLIENTA GAZ SYSTEM',\n",
       "       'OGROD.OCIEPL-WŁASNOŚĆ KLIENTA GAZ SYSTEM',\n",
       "       'OGRODNICZKI-WŁASNOŚĆ KLIENTA GAZ SYSTEM',\n",
       "       'POLO - WŁASNOŚĆ KLIENTA GAZ SYSTEM',\n",
       "       'POLO DŁ.RĘK M GRANAT-ŻÓŁ MULTI HIVI LOGO',\n",
       "       'SOFTSHELL GRANAT-ŻÓŁTY HIVI MULTIO  LOGO',\n",
       "       'SPODNIE - WŁASNOŚĆ KLIENTA GAZ SYSTEM',\n",
       "       'SPODNIE M GRANAT-ŻÓŁTY MULTIOCH HIVI',\n",
       "       'KAMIZELKA OC  M GRAN-ŻÓŁ MULTI HIVI LOGO',\n",
       "       'OGRODNICZ OC. M GRAN-ŻÓŁ MULTI HIVI LOGO',\n",
       "       'OGRODNICZK M GRANAT-ŻÓŁT MULTI HIVI LOGO'], dtype=object)"
      ]
     },
     "execution_count": 21,
     "metadata": {},
     "output_type": "execute_result"
    }
   ],
   "source": [
    "df['Opis'].unique()"
   ]
  },
  {
   "cell_type": "markdown",
   "id": "f02bac41",
   "metadata": {},
   "source": [
    "W naszej analizie nie interesują nas artykuły stanowiące 'WŁASNOŚĆ KLIENTA' dlatego też odfiltrowuje niepotrzbne dane"
   ]
  },
  {
   "cell_type": "code",
   "execution_count": 22,
   "id": "6d41653c",
   "metadata": {},
   "outputs": [],
   "source": [
    "df = df[df['Typ'] == 'ARTYKUŁY WYNAJMOWANE']"
   ]
  },
  {
   "cell_type": "code",
   "execution_count": 23,
   "id": "8c825059",
   "metadata": {},
   "outputs": [
    {
     "data": {
      "text/plain": [
       "(32690, 7)"
      ]
     },
     "execution_count": 23,
     "metadata": {},
     "output_type": "execute_result"
    }
   ],
   "source": [
    "df.shape"
   ]
  },
  {
   "cell_type": "code",
   "execution_count": 24,
   "id": "2d510c47",
   "metadata": {},
   "outputs": [],
   "source": [
    "df.drop('Typ', axis=1, inplace=True)"
   ]
  },
  {
   "cell_type": "code",
   "execution_count": 25,
   "id": "47fb03b6",
   "metadata": {},
   "outputs": [
    {
     "data": {
      "text/html": [
       "<div>\n",
       "<style scoped>\n",
       "    .dataframe tbody tr th:only-of-type {\n",
       "        vertical-align: middle;\n",
       "    }\n",
       "\n",
       "    .dataframe tbody tr th {\n",
       "        vertical-align: top;\n",
       "    }\n",
       "\n",
       "    .dataframe thead th {\n",
       "        text-align: right;\n",
       "    }\n",
       "</style>\n",
       "<table border=\"1\" class=\"dataframe\">\n",
       "  <thead>\n",
       "    <tr style=\"text-align: right;\">\n",
       "      <th></th>\n",
       "      <th>Nazwa</th>\n",
       "      <th>Tożsamość odzieży</th>\n",
       "      <th>Opis</th>\n",
       "      <th>Ilość prań</th>\n",
       "      <th>Imię</th>\n",
       "      <th>Liczba prań dla aktualnego użytkownika odzieży.</th>\n",
       "    </tr>\n",
       "  </thead>\n",
       "  <tbody>\n",
       "    <tr>\n",
       "      <th>0</th>\n",
       "      <td>GAZ - SYSTEM O/ POZNAŃ GROBLA</td>\n",
       "      <td>40000FA2717</td>\n",
       "      <td>BLUZA GRANAT-ŻÓŁTY HIVI MULTIOCHR LOGO</td>\n",
       "      <td>1</td>\n",
       "      <td>P0000751</td>\n",
       "      <td>0</td>\n",
       "    </tr>\n",
       "    <tr>\n",
       "      <th>1</th>\n",
       "      <td>GAZ - SYSTEM O/ POZNAŃ GROBLA</td>\n",
       "      <td>40000FA2FD0</td>\n",
       "      <td>BLUZA GRANAT-ŻÓŁTY HIVI MULTIOCHR LOGO</td>\n",
       "      <td>0</td>\n",
       "      <td>C0000765</td>\n",
       "      <td>0</td>\n",
       "    </tr>\n",
       "    <tr>\n",
       "      <th>2</th>\n",
       "      <td>GAZ - SYSTEM O/ POZNAŃ GROBLA</td>\n",
       "      <td>40000FA32B7</td>\n",
       "      <td>BLUZA GRANAT-ŻÓŁTY HIVI MULTIOCHR LOGO</td>\n",
       "      <td>0</td>\n",
       "      <td>C0000765</td>\n",
       "      <td>0</td>\n",
       "    </tr>\n",
       "    <tr>\n",
       "      <th>3</th>\n",
       "      <td>GAZ - SYSTEM O/ POZNAŃ GROBLA</td>\n",
       "      <td>40000FA32ED</td>\n",
       "      <td>BLUZA GRANAT-ŻÓŁTY HIVI MULTIOCHR LOGO</td>\n",
       "      <td>0</td>\n",
       "      <td>P0000067</td>\n",
       "      <td>0</td>\n",
       "    </tr>\n",
       "    <tr>\n",
       "      <th>4</th>\n",
       "      <td>GAZ - SYSTEM O/ POZNAŃ GROBLA</td>\n",
       "      <td>6C0001B13AC</td>\n",
       "      <td>BLUZA GRANAT-ŻÓŁTY HIVI MULTIOCHR LOGO</td>\n",
       "      <td>1</td>\n",
       "      <td>P0000758</td>\n",
       "      <td>1</td>\n",
       "    </tr>\n",
       "  </tbody>\n",
       "</table>\n",
       "</div>"
      ],
      "text/plain": [
       "                           Nazwa Tożsamość odzieży  \\\n",
       "0  GAZ - SYSTEM O/ POZNAŃ GROBLA       40000FA2717   \n",
       "1  GAZ - SYSTEM O/ POZNAŃ GROBLA       40000FA2FD0   \n",
       "2  GAZ - SYSTEM O/ POZNAŃ GROBLA       40000FA32B7   \n",
       "3  GAZ - SYSTEM O/ POZNAŃ GROBLA       40000FA32ED   \n",
       "4  GAZ - SYSTEM O/ POZNAŃ GROBLA       6C0001B13AC   \n",
       "\n",
       "                                     Opis  Ilość prań      Imię  \\\n",
       "0  BLUZA GRANAT-ŻÓŁTY HIVI MULTIOCHR LOGO           1  P0000751   \n",
       "1  BLUZA GRANAT-ŻÓŁTY HIVI MULTIOCHR LOGO           0  C0000765   \n",
       "2  BLUZA GRANAT-ŻÓŁTY HIVI MULTIOCHR LOGO           0  C0000765   \n",
       "3  BLUZA GRANAT-ŻÓŁTY HIVI MULTIOCHR LOGO           0  P0000067   \n",
       "4  BLUZA GRANAT-ŻÓŁTY HIVI MULTIOCHR LOGO           1  P0000758   \n",
       "\n",
       "   Liczba prań dla aktualnego użytkownika odzieży.  \n",
       "0                                                0  \n",
       "1                                                0  \n",
       "2                                                0  \n",
       "3                                                0  \n",
       "4                                                1  "
      ]
     },
     "execution_count": 25,
     "metadata": {},
     "output_type": "execute_result"
    }
   ],
   "source": [
    "df.head()"
   ]
  },
  {
   "cell_type": "code",
   "execution_count": 26,
   "id": "6557b34e",
   "metadata": {
    "scrolled": true
   },
   "outputs": [
    {
     "data": {
      "text/plain": [
       "array(['BLUZA GRANAT-ŻÓŁTY HIVI MULTIOCHR LOGO',\n",
       "       'KURTKA OC. M GRANAT-ŻÓŁT MULTI HIVI LOGO',\n",
       "       'POLO DŁ.RĘK M GRANAT-ŻÓŁ MULTI HIVI LOGO',\n",
       "       'SOFTSHELL GRANAT-ŻÓŁTY HIVI MULTIO  LOGO',\n",
       "       'SPODNIE M GRANAT-ŻÓŁTY MULTIOCH HIVI',\n",
       "       'KAMIZELKA OC  M GRAN-ŻÓŁ MULTI HIVI LOGO',\n",
       "       'OGRODNICZ OC. M GRAN-ŻÓŁ MULTI HIVI LOGO',\n",
       "       'OGRODNICZK M GRANAT-ŻÓŁT MULTI HIVI LOGO'], dtype=object)"
      ]
     },
     "execution_count": 26,
     "metadata": {},
     "output_type": "execute_result"
    }
   ],
   "source": [
    "df['Opis'].unique()"
   ]
  },
  {
   "cell_type": "markdown",
   "id": "a601648f",
   "metadata": {},
   "source": [
    "Patrząc na opis niekoniecznie chcemy mieć takie dane dlatego zmienimy je na coś co się będzie łatwiej czytać.\n",
    "W tym celu przygotowujemy słownik a następnie dokonamy zmiany opisów"
   ]
  },
  {
   "cell_type": "code",
   "execution_count": 27,
   "id": "4b65fd0b",
   "metadata": {},
   "outputs": [],
   "source": [
    "dict_1 = {'BLUZA GRANAT-ŻÓŁTY HIVI MULTIOCHR LOGO':'BLUZA GRANAT','KURTKA OC. M GRANAT-ŻÓŁT MULTI HIVI LOGO' : \"KURTKA OC.\",'POLO DŁ.RĘK M GRANAT-ŻÓŁ MULTI HIVI LOGO':'POLO', 'SOFTSHELL GRANAT-ŻÓŁTY HIVI MULTIO  LOGO' :'SOFTSHELL',\n",
    "         'SPODNIE M GRANAT-ŻÓŁTY MULTIOCH HIVI': 'SPODNIE', 'KAMIZELKA OC  M GRAN-ŻÓŁ MULTI HIVI LOGO' : 'KAMIZELKA OC',\n",
    "         'OGRODNICZ OC. M GRAN-ŻÓŁ MULTI HIVI LOGO':'OGRODNICZ OC.', 'OGRODNICZK M GRANAT-ŻÓŁT MULTI HIVI LOGO': 'OGRODNICZKI'}"
   ]
  },
  {
   "cell_type": "code",
   "execution_count": 28,
   "id": "6c7f3ff5",
   "metadata": {},
   "outputs": [
    {
     "data": {
      "text/plain": [
       "{'BLUZA GRANAT-ŻÓŁTY HIVI MULTIOCHR LOGO': 'BLUZA GRANAT',\n",
       " 'KURTKA OC. M GRANAT-ŻÓŁT MULTI HIVI LOGO': 'KURTKA OC.',\n",
       " 'POLO DŁ.RĘK M GRANAT-ŻÓŁ MULTI HIVI LOGO': 'POLO',\n",
       " 'SOFTSHELL GRANAT-ŻÓŁTY HIVI MULTIO  LOGO': 'SOFTSHELL',\n",
       " 'SPODNIE M GRANAT-ŻÓŁTY MULTIOCH HIVI': 'SPODNIE',\n",
       " 'KAMIZELKA OC  M GRAN-ŻÓŁ MULTI HIVI LOGO': 'KAMIZELKA OC',\n",
       " 'OGRODNICZ OC. M GRAN-ŻÓŁ MULTI HIVI LOGO': 'OGRODNICZ OC.',\n",
       " 'OGRODNICZK M GRANAT-ŻÓŁT MULTI HIVI LOGO': 'OGRODNICZKI'}"
      ]
     },
     "execution_count": 28,
     "metadata": {},
     "output_type": "execute_result"
    }
   ],
   "source": [
    "dict_1"
   ]
  },
  {
   "cell_type": "code",
   "execution_count": 29,
   "id": "5a784b58",
   "metadata": {},
   "outputs": [
    {
     "data": {
      "text/plain": [
       "'BLUZA GRANAT-ŻÓŁTY HIVI MULTIOCHR LOGO'"
      ]
     },
     "execution_count": 29,
     "metadata": {},
     "output_type": "execute_result"
    }
   ],
   "source": [
    "list(dict_1.keys())[0]"
   ]
  },
  {
   "cell_type": "code",
   "execution_count": 30,
   "id": "1a4b37dc",
   "metadata": {},
   "outputs": [
    {
     "data": {
      "text/plain": [
       "'BLUZA GRANAT'"
      ]
     },
     "execution_count": 30,
     "metadata": {},
     "output_type": "execute_result"
    }
   ],
   "source": [
    "list(dict_1.values())[0]"
   ]
  },
  {
   "cell_type": "code",
   "execution_count": 31,
   "id": "d1dd716e",
   "metadata": {},
   "outputs": [],
   "source": [
    "for key in list(dict_1.keys()):\n",
    "    df.loc[df['Opis'] == key, 'Opis'] = dict_1[key] "
   ]
  },
  {
   "cell_type": "code",
   "execution_count": 32,
   "id": "fca6c840",
   "metadata": {},
   "outputs": [
    {
     "data": {
      "text/html": [
       "<div>\n",
       "<style scoped>\n",
       "    .dataframe tbody tr th:only-of-type {\n",
       "        vertical-align: middle;\n",
       "    }\n",
       "\n",
       "    .dataframe tbody tr th {\n",
       "        vertical-align: top;\n",
       "    }\n",
       "\n",
       "    .dataframe thead th {\n",
       "        text-align: right;\n",
       "    }\n",
       "</style>\n",
       "<table border=\"1\" class=\"dataframe\">\n",
       "  <thead>\n",
       "    <tr style=\"text-align: right;\">\n",
       "      <th></th>\n",
       "      <th>Nazwa</th>\n",
       "      <th>Tożsamość odzieży</th>\n",
       "      <th>Opis</th>\n",
       "      <th>Ilość prań</th>\n",
       "      <th>Imię</th>\n",
       "      <th>Liczba prań dla aktualnego użytkownika odzieży.</th>\n",
       "    </tr>\n",
       "  </thead>\n",
       "  <tbody>\n",
       "    <tr>\n",
       "      <th>0</th>\n",
       "      <td>GAZ - SYSTEM O/ POZNAŃ GROBLA</td>\n",
       "      <td>40000FA2717</td>\n",
       "      <td>BLUZA GRANAT</td>\n",
       "      <td>1</td>\n",
       "      <td>P0000751</td>\n",
       "      <td>0</td>\n",
       "    </tr>\n",
       "    <tr>\n",
       "      <th>1</th>\n",
       "      <td>GAZ - SYSTEM O/ POZNAŃ GROBLA</td>\n",
       "      <td>40000FA2FD0</td>\n",
       "      <td>BLUZA GRANAT</td>\n",
       "      <td>0</td>\n",
       "      <td>C0000765</td>\n",
       "      <td>0</td>\n",
       "    </tr>\n",
       "    <tr>\n",
       "      <th>2</th>\n",
       "      <td>GAZ - SYSTEM O/ POZNAŃ GROBLA</td>\n",
       "      <td>40000FA32B7</td>\n",
       "      <td>BLUZA GRANAT</td>\n",
       "      <td>0</td>\n",
       "      <td>C0000765</td>\n",
       "      <td>0</td>\n",
       "    </tr>\n",
       "    <tr>\n",
       "      <th>3</th>\n",
       "      <td>GAZ - SYSTEM O/ POZNAŃ GROBLA</td>\n",
       "      <td>40000FA32ED</td>\n",
       "      <td>BLUZA GRANAT</td>\n",
       "      <td>0</td>\n",
       "      <td>P0000067</td>\n",
       "      <td>0</td>\n",
       "    </tr>\n",
       "    <tr>\n",
       "      <th>4</th>\n",
       "      <td>GAZ - SYSTEM O/ POZNAŃ GROBLA</td>\n",
       "      <td>6C0001B13AC</td>\n",
       "      <td>BLUZA GRANAT</td>\n",
       "      <td>1</td>\n",
       "      <td>P0000758</td>\n",
       "      <td>1</td>\n",
       "    </tr>\n",
       "  </tbody>\n",
       "</table>\n",
       "</div>"
      ],
      "text/plain": [
       "                           Nazwa Tożsamość odzieży          Opis  Ilość prań  \\\n",
       "0  GAZ - SYSTEM O/ POZNAŃ GROBLA       40000FA2717  BLUZA GRANAT           1   \n",
       "1  GAZ - SYSTEM O/ POZNAŃ GROBLA       40000FA2FD0  BLUZA GRANAT           0   \n",
       "2  GAZ - SYSTEM O/ POZNAŃ GROBLA       40000FA32B7  BLUZA GRANAT           0   \n",
       "3  GAZ - SYSTEM O/ POZNAŃ GROBLA       40000FA32ED  BLUZA GRANAT           0   \n",
       "4  GAZ - SYSTEM O/ POZNAŃ GROBLA       6C0001B13AC  BLUZA GRANAT           1   \n",
       "\n",
       "       Imię  Liczba prań dla aktualnego użytkownika odzieży.  \n",
       "0  P0000751                                                0  \n",
       "1  C0000765                                                0  \n",
       "2  C0000765                                                0  \n",
       "3  P0000067                                                0  \n",
       "4  P0000758                                                1  "
      ]
     },
     "execution_count": 32,
     "metadata": {},
     "output_type": "execute_result"
    }
   ],
   "source": [
    "df.head()"
   ]
  },
  {
   "cell_type": "code",
   "execution_count": 33,
   "id": "418492b6",
   "metadata": {},
   "outputs": [
    {
     "data": {
      "text/plain": [
       "array(['BLUZA GRANAT', 'KURTKA OC.', 'POLO', 'SOFTSHELL', 'SPODNIE',\n",
       "       'KAMIZELKA OC', 'OGRODNICZ OC.', 'OGRODNICZKI'], dtype=object)"
      ]
     },
     "execution_count": 33,
     "metadata": {},
     "output_type": "execute_result"
    }
   ],
   "source": [
    "df['Opis'].unique()"
   ]
  },
  {
   "cell_type": "markdown",
   "id": "cd6cf301",
   "metadata": {},
   "source": [
    "### Przyglądniemy się teraz bardziej co mamy  w kolumnie 'Nazwa'\n",
    "***\n",
    "W kolumnie widać że dane są różnie wprowadzane w zależności od pralni, ponadto mamy informacje których na danym etapie analizy nie potrzebujemy takie jak np magazyn buforowy lub elementy wstrzymane do wyjaśneinia. \n",
    "Poniżej przykładowo ograniczymy dane"
   ]
  },
  {
   "cell_type": "code",
   "execution_count": 34,
   "id": "03e10657",
   "metadata": {},
   "outputs": [
    {
     "data": {
      "text/plain": [
       "array(['GAZ - SYSTEM O/ POZNAŃ GROBLA',\n",
       "       'GAZ - SYSTEM O/ POZNAŃ CZERWONACKA 5',\n",
       "       'GAZ - SYSTEM O/POZNAŃ,  PIŁA', 'GAZ - SYSTEM O/POZNAŃ,  GRANOWO',\n",
       "       'GAZ - SYSTEM O/POZNAŃ,  KROBIA', 'GAZ - SYSTEM O/POZNAŃ,  LWÓWEK',\n",
       "       'GAZ - SYSTEM O/ POZNAŃ, ODOLANÓW',\n",
       "       'GAZ - SYSTEM O/POZNAŃ,  KALISZ', 'GAZ - SYSTEM O/ POZNAŃ, LESZNO',\n",
       "       'GAZ - SYSTEM O/ POZNAŃ, SZCZECIN',\n",
       "       'GAZ - SYSTEM O/POZNAŃ,  GOLENIÓW',\n",
       "       'GAZ - SYSTEM O/ POZNAŃ, GORZÓW WIELKOPOL',\n",
       "       'GAZ - SYSTEM O/POZNAŃ,  UJŚCIE',\n",
       "       'GAZ - SYSTEM O/WROCŁAW, ZIELONA GÓRA',\n",
       "       'GAZ-SYSTEM / MAGAZYN BUFOR',\n",
       "       'GAZ - SYSTEM O/POZNAŃ,  ŚWINOUJŚCIE',\n",
       "       'GAZ SYSTEM\\\\ DO WYJAŚNIENIA', 'GAZ - SYSTEM O/ POZNAŃ, NIECHORZE',\n",
       "       'GAZ-SYSTEM O/ŚWIERKLANY BIELSKO',\n",
       "       'GAZ-SYSTEM O/ŚWIERKLANY CZĘSTOCHOWA',\n",
       "       'GAZ-SYSTEM O/TARNÓW KRAKÓW', 'GAZ-SYSTEM O/ŚWIERKLANY OPOLE',\n",
       "       'GAZ-SYSTEM O/ŚWIERKLANY RUDA ŚLĄSKA',\n",
       "       'GAZ-SYSTEM O/ŚWIERKLANY ŚWIERKLANY',\n",
       "       'GAZ SYSTEM O/ŚWIERKLANY KĘDZIERZYN KOŹLE',\n",
       "       'GAZ-SYSTEM O/TARNÓW- JAROSŁAW', 'GAZ-SYSTEM O/TARNÓW LUBACZÓW',\n",
       "       'GAZ-SYSTEM O/TARNÓW MAĆKOWICE',\n",
       "       'GAZ-SYSTEM O/TARNÓW POGÓRSKA WOLA',\n",
       "       'GAZ-SYSTEM O/TARNÓW- RZESZÓW', 'GAZ-SYSTEM O/TARNÓW- SANDOMIERZ',\n",
       "       'GAZ-SYSTEM O/TARNÓW STRACHOCINA',\n",
       "       'GAZ-SYSTEM O/TARNÓW JASŁO - STRACHOCINA',\n",
       "       'GAZ-SYSTEM O/ TARNÓW CIESZACIN MAŁY',\n",
       "       'GAZ-SYSTEM / MAGAZYN BUFOR TARNÓW', 'GAZ SYSTEM - DO WYJAŚNIENIA',\n",
       "       'GAZ-SYSTEM O/W-WA, SARNAKI KLEPACZEW',\n",
       "       'GAZ-SYSTEM O/W-WA, MSZCZONOWSKA',\n",
       "       'GAZ-SYSTEM O/W-WA, NIEPORĘT, JANA KAZIEM',\n",
       "       'GAZ-SYSTEM O/W-WA,KOŃSKOWOLA, WARSZAWSKA',\n",
       "       'GAZ-SYSTEM O/W-WA, SUWAŁKI, INNOWACYJNA',\n",
       "       'GAZ-SYSTEM O/W-WA, ZGIERZ, PIĄTKOWSKA',\n",
       "       'GAZ-SYSTEM O/TARNÓW ,ŚWIDNIK, AL.TYSIĄC',\n",
       "       'GAZ-SYSTEM O/W-WA, ZAMBRÓW, GRZYMAŁY',\n",
       "       'GAZ SYSTEM O/W-WA, KONDRATKI', 'GAZ SYSTEM- DO WYJAŚNIENIA',\n",
       "       'GAZ-SYSTEM O/WROCŁAW- SZCZAWNO ZDRÓJ',\n",
       "       'GAZ-SYSTEM O/WROCŁAW- JELENIA GÓRA',\n",
       "       'GAZ-SYSTEM O/WROCŁAW- ZGORZELEC', 'GAZ-SYSTEM O/WROCŁAW- WYKROTY',\n",
       "       'GAZ-SYSTEM O/WROCŁAW- CHOJNÓW', 'GAZ-SYSTEM O/WROCŁAW- KŁODZKO',\n",
       "       'GAZ-SYSTEM O/WROCŁAW- WROCŁAW', 'GAZ SYSTEM O/GDAŃSK- GDAŃSK',\n",
       "       'GAZ SYSTEM O/GDAŃSK- GRUDZIĄDZ', 'GAZ SYSTEM O/GDAŃSK- GUSTORZYN'],\n",
       "      dtype=object)"
      ]
     },
     "execution_count": 34,
     "metadata": {},
     "output_type": "execute_result"
    }
   ],
   "source": [
    "df['Nazwa'].unique()"
   ]
  },
  {
   "cell_type": "markdown",
   "id": "68b7ed8f",
   "metadata": {},
   "source": [
    "#### Na dalszym etapie nie będziemy potrzebować informacji dotyczących odzieży znajdujących się na magazynie buforowym ani tymczasowo przekazanych do wyjaśnienia\n",
    "\n",
    "Do pozbycia siętych danych utworzymy filtr przy użyciu metody str **contains** "
   ]
  },
  {
   "cell_type": "code",
   "execution_count": 35,
   "id": "97dfdfca",
   "metadata": {},
   "outputs": [
    {
     "data": {
      "text/plain": [
       "True"
      ]
     },
     "execution_count": 35,
     "metadata": {},
     "output_type": "execute_result"
    }
   ],
   "source": [
    "'GDAŃSK' in 'GAZ SYSTEM O/GDAŃSK- GRUDZIĄDZ'"
   ]
  },
  {
   "cell_type": "code",
   "execution_count": 36,
   "id": "a4f0b4d9",
   "metadata": {},
   "outputs": [],
   "source": [
    "Filtr_1 = ~df['Nazwa'].str.contains('BUFOR')"
   ]
  },
  {
   "cell_type": "code",
   "execution_count": 37,
   "id": "35781e48",
   "metadata": {},
   "outputs": [],
   "source": [
    "df = df[Filtr_1]"
   ]
  },
  {
   "cell_type": "code",
   "execution_count": 38,
   "id": "194f4385",
   "metadata": {},
   "outputs": [
    {
     "data": {
      "text/plain": [
       "array(['GAZ - SYSTEM O/ POZNAŃ GROBLA',\n",
       "       'GAZ - SYSTEM O/ POZNAŃ CZERWONACKA 5',\n",
       "       'GAZ - SYSTEM O/POZNAŃ,  PIŁA', 'GAZ - SYSTEM O/POZNAŃ,  GRANOWO',\n",
       "       'GAZ - SYSTEM O/POZNAŃ,  KROBIA', 'GAZ - SYSTEM O/POZNAŃ,  LWÓWEK',\n",
       "       'GAZ - SYSTEM O/ POZNAŃ, ODOLANÓW',\n",
       "       'GAZ - SYSTEM O/POZNAŃ,  KALISZ', 'GAZ - SYSTEM O/ POZNAŃ, LESZNO',\n",
       "       'GAZ - SYSTEM O/ POZNAŃ, SZCZECIN',\n",
       "       'GAZ - SYSTEM O/POZNAŃ,  GOLENIÓW',\n",
       "       'GAZ - SYSTEM O/ POZNAŃ, GORZÓW WIELKOPOL',\n",
       "       'GAZ - SYSTEM O/POZNAŃ,  UJŚCIE',\n",
       "       'GAZ - SYSTEM O/WROCŁAW, ZIELONA GÓRA',\n",
       "       'GAZ - SYSTEM O/POZNAŃ,  ŚWINOUJŚCIE',\n",
       "       'GAZ SYSTEM\\\\ DO WYJAŚNIENIA', 'GAZ - SYSTEM O/ POZNAŃ, NIECHORZE',\n",
       "       'GAZ-SYSTEM O/ŚWIERKLANY BIELSKO',\n",
       "       'GAZ-SYSTEM O/ŚWIERKLANY CZĘSTOCHOWA',\n",
       "       'GAZ-SYSTEM O/TARNÓW KRAKÓW', 'GAZ-SYSTEM O/ŚWIERKLANY OPOLE',\n",
       "       'GAZ-SYSTEM O/ŚWIERKLANY RUDA ŚLĄSKA',\n",
       "       'GAZ-SYSTEM O/ŚWIERKLANY ŚWIERKLANY',\n",
       "       'GAZ SYSTEM O/ŚWIERKLANY KĘDZIERZYN KOŹLE',\n",
       "       'GAZ-SYSTEM O/TARNÓW- JAROSŁAW', 'GAZ-SYSTEM O/TARNÓW LUBACZÓW',\n",
       "       'GAZ-SYSTEM O/TARNÓW MAĆKOWICE',\n",
       "       'GAZ-SYSTEM O/TARNÓW POGÓRSKA WOLA',\n",
       "       'GAZ-SYSTEM O/TARNÓW- RZESZÓW', 'GAZ-SYSTEM O/TARNÓW- SANDOMIERZ',\n",
       "       'GAZ-SYSTEM O/TARNÓW STRACHOCINA',\n",
       "       'GAZ-SYSTEM O/TARNÓW JASŁO - STRACHOCINA',\n",
       "       'GAZ-SYSTEM O/ TARNÓW CIESZACIN MAŁY',\n",
       "       'GAZ SYSTEM - DO WYJAŚNIENIA',\n",
       "       'GAZ-SYSTEM O/W-WA, SARNAKI KLEPACZEW',\n",
       "       'GAZ-SYSTEM O/W-WA, MSZCZONOWSKA',\n",
       "       'GAZ-SYSTEM O/W-WA, NIEPORĘT, JANA KAZIEM',\n",
       "       'GAZ-SYSTEM O/W-WA,KOŃSKOWOLA, WARSZAWSKA',\n",
       "       'GAZ-SYSTEM O/W-WA, SUWAŁKI, INNOWACYJNA',\n",
       "       'GAZ-SYSTEM O/W-WA, ZGIERZ, PIĄTKOWSKA',\n",
       "       'GAZ-SYSTEM O/TARNÓW ,ŚWIDNIK, AL.TYSIĄC',\n",
       "       'GAZ-SYSTEM O/W-WA, ZAMBRÓW, GRZYMAŁY',\n",
       "       'GAZ SYSTEM O/W-WA, KONDRATKI', 'GAZ SYSTEM- DO WYJAŚNIENIA',\n",
       "       'GAZ-SYSTEM O/WROCŁAW- SZCZAWNO ZDRÓJ',\n",
       "       'GAZ-SYSTEM O/WROCŁAW- JELENIA GÓRA',\n",
       "       'GAZ-SYSTEM O/WROCŁAW- ZGORZELEC', 'GAZ-SYSTEM O/WROCŁAW- WYKROTY',\n",
       "       'GAZ-SYSTEM O/WROCŁAW- CHOJNÓW', 'GAZ-SYSTEM O/WROCŁAW- KŁODZKO',\n",
       "       'GAZ-SYSTEM O/WROCŁAW- WROCŁAW', 'GAZ SYSTEM O/GDAŃSK- GDAŃSK',\n",
       "       'GAZ SYSTEM O/GDAŃSK- GRUDZIĄDZ', 'GAZ SYSTEM O/GDAŃSK- GUSTORZYN'],\n",
       "      dtype=object)"
      ]
     },
     "execution_count": 38,
     "metadata": {},
     "output_type": "execute_result"
    }
   ],
   "source": [
    "df['Nazwa'].unique()"
   ]
  },
  {
   "cell_type": "code",
   "execution_count": 39,
   "id": "49db5f3e",
   "metadata": {},
   "outputs": [],
   "source": [
    "Filtr_2 = ~df['Nazwa'].str.contains('WYJAŚNIENIA')"
   ]
  },
  {
   "cell_type": "code",
   "execution_count": 40,
   "id": "301197e5",
   "metadata": {},
   "outputs": [],
   "source": [
    "df = df[Filtr_2]"
   ]
  },
  {
   "cell_type": "code",
   "execution_count": 41,
   "id": "6aeb10a5",
   "metadata": {},
   "outputs": [
    {
     "data": {
      "text/plain": [
       "array(['GAZ - SYSTEM O/ POZNAŃ GROBLA',\n",
       "       'GAZ - SYSTEM O/ POZNAŃ CZERWONACKA 5',\n",
       "       'GAZ - SYSTEM O/POZNAŃ,  PIŁA', 'GAZ - SYSTEM O/POZNAŃ,  GRANOWO',\n",
       "       'GAZ - SYSTEM O/POZNAŃ,  KROBIA', 'GAZ - SYSTEM O/POZNAŃ,  LWÓWEK',\n",
       "       'GAZ - SYSTEM O/ POZNAŃ, ODOLANÓW',\n",
       "       'GAZ - SYSTEM O/POZNAŃ,  KALISZ', 'GAZ - SYSTEM O/ POZNAŃ, LESZNO',\n",
       "       'GAZ - SYSTEM O/ POZNAŃ, SZCZECIN',\n",
       "       'GAZ - SYSTEM O/POZNAŃ,  GOLENIÓW',\n",
       "       'GAZ - SYSTEM O/ POZNAŃ, GORZÓW WIELKOPOL',\n",
       "       'GAZ - SYSTEM O/POZNAŃ,  UJŚCIE',\n",
       "       'GAZ - SYSTEM O/WROCŁAW, ZIELONA GÓRA',\n",
       "       'GAZ - SYSTEM O/POZNAŃ,  ŚWINOUJŚCIE',\n",
       "       'GAZ - SYSTEM O/ POZNAŃ, NIECHORZE',\n",
       "       'GAZ-SYSTEM O/ŚWIERKLANY BIELSKO',\n",
       "       'GAZ-SYSTEM O/ŚWIERKLANY CZĘSTOCHOWA',\n",
       "       'GAZ-SYSTEM O/TARNÓW KRAKÓW', 'GAZ-SYSTEM O/ŚWIERKLANY OPOLE',\n",
       "       'GAZ-SYSTEM O/ŚWIERKLANY RUDA ŚLĄSKA',\n",
       "       'GAZ-SYSTEM O/ŚWIERKLANY ŚWIERKLANY',\n",
       "       'GAZ SYSTEM O/ŚWIERKLANY KĘDZIERZYN KOŹLE',\n",
       "       'GAZ-SYSTEM O/TARNÓW- JAROSŁAW', 'GAZ-SYSTEM O/TARNÓW LUBACZÓW',\n",
       "       'GAZ-SYSTEM O/TARNÓW MAĆKOWICE',\n",
       "       'GAZ-SYSTEM O/TARNÓW POGÓRSKA WOLA',\n",
       "       'GAZ-SYSTEM O/TARNÓW- RZESZÓW', 'GAZ-SYSTEM O/TARNÓW- SANDOMIERZ',\n",
       "       'GAZ-SYSTEM O/TARNÓW STRACHOCINA',\n",
       "       'GAZ-SYSTEM O/TARNÓW JASŁO - STRACHOCINA',\n",
       "       'GAZ-SYSTEM O/ TARNÓW CIESZACIN MAŁY',\n",
       "       'GAZ-SYSTEM O/W-WA, SARNAKI KLEPACZEW',\n",
       "       'GAZ-SYSTEM O/W-WA, MSZCZONOWSKA',\n",
       "       'GAZ-SYSTEM O/W-WA, NIEPORĘT, JANA KAZIEM',\n",
       "       'GAZ-SYSTEM O/W-WA,KOŃSKOWOLA, WARSZAWSKA',\n",
       "       'GAZ-SYSTEM O/W-WA, SUWAŁKI, INNOWACYJNA',\n",
       "       'GAZ-SYSTEM O/W-WA, ZGIERZ, PIĄTKOWSKA',\n",
       "       'GAZ-SYSTEM O/TARNÓW ,ŚWIDNIK, AL.TYSIĄC',\n",
       "       'GAZ-SYSTEM O/W-WA, ZAMBRÓW, GRZYMAŁY',\n",
       "       'GAZ SYSTEM O/W-WA, KONDRATKI',\n",
       "       'GAZ-SYSTEM O/WROCŁAW- SZCZAWNO ZDRÓJ',\n",
       "       'GAZ-SYSTEM O/WROCŁAW- JELENIA GÓRA',\n",
       "       'GAZ-SYSTEM O/WROCŁAW- ZGORZELEC', 'GAZ-SYSTEM O/WROCŁAW- WYKROTY',\n",
       "       'GAZ-SYSTEM O/WROCŁAW- CHOJNÓW', 'GAZ-SYSTEM O/WROCŁAW- KŁODZKO',\n",
       "       'GAZ-SYSTEM O/WROCŁAW- WROCŁAW', 'GAZ SYSTEM O/GDAŃSK- GDAŃSK',\n",
       "       'GAZ SYSTEM O/GDAŃSK- GRUDZIĄDZ', 'GAZ SYSTEM O/GDAŃSK- GUSTORZYN'],\n",
       "      dtype=object)"
      ]
     },
     "execution_count": 41,
     "metadata": {},
     "output_type": "execute_result"
    }
   ],
   "source": [
    "df['Nazwa'].unique()"
   ]
  },
  {
   "cell_type": "code",
   "execution_count": 42,
   "id": "45ed8642",
   "metadata": {},
   "outputs": [
    {
     "data": {
      "text/plain": [
       "array([' POZNAŃ GROBLA', ' POZNAŃ CZERWONACKA 5', 'POZNAŃ,  PIŁA',\n",
       "       'POZNAŃ,  GRANOWO', 'POZNAŃ,  KROBIA', 'POZNAŃ,  LWÓWEK',\n",
       "       ' POZNAŃ, ODOLANÓW', 'POZNAŃ,  KALISZ', ' POZNAŃ, LESZNO',\n",
       "       ' POZNAŃ, SZCZECIN', 'POZNAŃ,  GOLENIÓW',\n",
       "       ' POZNAŃ, GORZÓW WIELKOPOL', 'POZNAŃ,  UJŚCIE',\n",
       "       'WROCŁAW, ZIELONA GÓRA', 'POZNAŃ,  ŚWINOUJŚCIE',\n",
       "       ' POZNAŃ, NIECHORZE', 'ŚWIERKLANY BIELSKO',\n",
       "       'ŚWIERKLANY CZĘSTOCHOWA', 'TARNÓW KRAKÓW', 'ŚWIERKLANY OPOLE',\n",
       "       'ŚWIERKLANY RUDA ŚLĄSKA', 'ŚWIERKLANY ŚWIERKLANY',\n",
       "       'ŚWIERKLANY KĘDZIERZYN KOŹLE', 'TARNÓW- JAROSŁAW',\n",
       "       'TARNÓW LUBACZÓW', 'TARNÓW MAĆKOWICE', 'TARNÓW POGÓRSKA WOLA',\n",
       "       'TARNÓW- RZESZÓW', 'TARNÓW- SANDOMIERZ', 'TARNÓW STRACHOCINA',\n",
       "       'TARNÓW JASŁO - STRACHOCINA', ' TARNÓW CIESZACIN MAŁY',\n",
       "       'W-WA, SARNAKI KLEPACZEW', 'W-WA, MSZCZONOWSKA',\n",
       "       'W-WA, NIEPORĘT, JANA KAZIEM', 'W-WA,KOŃSKOWOLA, WARSZAWSKA',\n",
       "       'W-WA, SUWAŁKI, INNOWACYJNA', 'W-WA, ZGIERZ, PIĄTKOWSKA',\n",
       "       'TARNÓW ,ŚWIDNIK, AL.TYSIĄC', 'W-WA, ZAMBRÓW, GRZYMAŁY',\n",
       "       'W-WA, KONDRATKI', 'WROCŁAW- SZCZAWNO ZDRÓJ',\n",
       "       'WROCŁAW- JELENIA GÓRA', 'WROCŁAW- ZGORZELEC', 'WROCŁAW- WYKROTY',\n",
       "       'WROCŁAW- CHOJNÓW', 'WROCŁAW- KŁODZKO', 'WROCŁAW- WROCŁAW',\n",
       "       'GDAŃSK- GDAŃSK', 'GDAŃSK- GRUDZIĄDZ', 'GDAŃSK- GUSTORZYN'],\n",
       "      dtype=object)"
      ]
     },
     "execution_count": 42,
     "metadata": {},
     "output_type": "execute_result"
    }
   ],
   "source": [
    "df['Nazwa'].str.split('/').str[1].unique()"
   ]
  },
  {
   "cell_type": "code",
   "execution_count": 43,
   "id": "428c64c4",
   "metadata": {},
   "outputs": [],
   "source": [
    "df['Nazwa'] = df['Nazwa'].str.split('/').str[1]"
   ]
  },
  {
   "cell_type": "code",
   "execution_count": 44,
   "id": "ae5c1280",
   "metadata": {},
   "outputs": [],
   "source": [
    "df['Nazwa'] = df['Nazwa'].str.replace('-','')"
   ]
  },
  {
   "cell_type": "code",
   "execution_count": 45,
   "id": "fb49fea3",
   "metadata": {},
   "outputs": [],
   "source": [
    "df['Nazwa'] = df['Nazwa'].str.replace(',',' ')"
   ]
  },
  {
   "cell_type": "code",
   "execution_count": 46,
   "id": "57c57043",
   "metadata": {},
   "outputs": [],
   "source": [
    "df['Nazwa'] = df['Nazwa'].str.replace('  ',' ')"
   ]
  },
  {
   "cell_type": "code",
   "execution_count": 47,
   "id": "39109c70",
   "metadata": {},
   "outputs": [],
   "source": [
    "df['Nazwa'] = df['Nazwa'].str.replace('  ',' ')"
   ]
  },
  {
   "cell_type": "code",
   "execution_count": 48,
   "id": "c7065635",
   "metadata": {},
   "outputs": [],
   "source": [
    "df['Nazwa'] = df['Nazwa'].str.strip()"
   ]
  },
  {
   "cell_type": "code",
   "execution_count": 49,
   "id": "be9a0052",
   "metadata": {},
   "outputs": [],
   "source": [
    "df['Nazwa'] = df['Nazwa'].str.replace('WWA','REMBELSZCZYZNA')"
   ]
  },
  {
   "cell_type": "code",
   "execution_count": 50,
   "id": "ff64ab97",
   "metadata": {},
   "outputs": [],
   "source": [
    "df['Nazwa'] = df['Nazwa'].str.replace('REMBELSZCZYZNA MSZCZONOWSKA','CENTRALA MSZCZONOWSKA')"
   ]
  },
  {
   "cell_type": "code",
   "execution_count": 51,
   "id": "d75184c2",
   "metadata": {},
   "outputs": [
    {
     "data": {
      "text/plain": [
       "array(['POZNAŃ GROBLA', 'POZNAŃ CZERWONACKA 5', 'POZNAŃ PIŁA',\n",
       "       'POZNAŃ GRANOWO', 'POZNAŃ KROBIA', 'POZNAŃ LWÓWEK',\n",
       "       'POZNAŃ ODOLANÓW', 'POZNAŃ KALISZ', 'POZNAŃ LESZNO',\n",
       "       'POZNAŃ SZCZECIN', 'POZNAŃ GOLENIÓW', 'POZNAŃ GORZÓW WIELKOPOL',\n",
       "       'POZNAŃ UJŚCIE', 'WROCŁAW ZIELONA GÓRA', 'POZNAŃ ŚWINOUJŚCIE',\n",
       "       'POZNAŃ NIECHORZE', 'ŚWIERKLANY BIELSKO', 'ŚWIERKLANY CZĘSTOCHOWA',\n",
       "       'TARNÓW KRAKÓW', 'ŚWIERKLANY OPOLE', 'ŚWIERKLANY RUDA ŚLĄSKA',\n",
       "       'ŚWIERKLANY ŚWIERKLANY', 'ŚWIERKLANY KĘDZIERZYN KOŹLE',\n",
       "       'TARNÓW JAROSŁAW', 'TARNÓW LUBACZÓW', 'TARNÓW MAĆKOWICE',\n",
       "       'TARNÓW POGÓRSKA WOLA', 'TARNÓW RZESZÓW', 'TARNÓW SANDOMIERZ',\n",
       "       'TARNÓW STRACHOCINA', 'TARNÓW JASŁO STRACHOCINA',\n",
       "       'TARNÓW CIESZACIN MAŁY', 'REMBELSZCZYZNA SARNAKI KLEPACZEW',\n",
       "       'CENTRALA MSZCZONOWSKA', 'REMBELSZCZYZNA NIEPORĘT JANA KAZIEM',\n",
       "       'REMBELSZCZYZNA KOŃSKOWOLA WARSZAWSKA',\n",
       "       'REMBELSZCZYZNA SUWAŁKI INNOWACYJNA',\n",
       "       'REMBELSZCZYZNA ZGIERZ PIĄTKOWSKA', 'TARNÓW ŚWIDNIK AL.TYSIĄC',\n",
       "       'REMBELSZCZYZNA ZAMBRÓW GRZYMAŁY', 'REMBELSZCZYZNA KONDRATKI',\n",
       "       'WROCŁAW SZCZAWNO ZDRÓJ', 'WROCŁAW JELENIA GÓRA',\n",
       "       'WROCŁAW ZGORZELEC', 'WROCŁAW WYKROTY', 'WROCŁAW CHOJNÓW',\n",
       "       'WROCŁAW KŁODZKO', 'WROCŁAW WROCŁAW', 'GDAŃSK GDAŃSK',\n",
       "       'GDAŃSK GRUDZIĄDZ', 'GDAŃSK GUSTORZYN'], dtype=object)"
      ]
     },
     "execution_count": 51,
     "metadata": {},
     "output_type": "execute_result"
    }
   ],
   "source": [
    "df['Nazwa'].unique()"
   ]
  },
  {
   "cell_type": "code",
   "execution_count": 52,
   "id": "c703b77f",
   "metadata": {},
   "outputs": [
    {
     "data": {
      "text/html": [
       "<div>\n",
       "<style scoped>\n",
       "    .dataframe tbody tr th:only-of-type {\n",
       "        vertical-align: middle;\n",
       "    }\n",
       "\n",
       "    .dataframe tbody tr th {\n",
       "        vertical-align: top;\n",
       "    }\n",
       "\n",
       "    .dataframe thead th {\n",
       "        text-align: right;\n",
       "    }\n",
       "</style>\n",
       "<table border=\"1\" class=\"dataframe\">\n",
       "  <thead>\n",
       "    <tr style=\"text-align: right;\">\n",
       "      <th></th>\n",
       "      <th>Nazwa</th>\n",
       "      <th>Tożsamość odzieży</th>\n",
       "      <th>Opis</th>\n",
       "      <th>Ilość prań</th>\n",
       "      <th>Imię</th>\n",
       "      <th>Liczba prań dla aktualnego użytkownika odzieży.</th>\n",
       "    </tr>\n",
       "  </thead>\n",
       "  <tbody>\n",
       "    <tr>\n",
       "      <th>0</th>\n",
       "      <td>POZNAŃ GROBLA</td>\n",
       "      <td>40000FA2717</td>\n",
       "      <td>BLUZA GRANAT</td>\n",
       "      <td>1</td>\n",
       "      <td>P0000751</td>\n",
       "      <td>0</td>\n",
       "    </tr>\n",
       "    <tr>\n",
       "      <th>1</th>\n",
       "      <td>POZNAŃ GROBLA</td>\n",
       "      <td>40000FA2FD0</td>\n",
       "      <td>BLUZA GRANAT</td>\n",
       "      <td>0</td>\n",
       "      <td>C0000765</td>\n",
       "      <td>0</td>\n",
       "    </tr>\n",
       "    <tr>\n",
       "      <th>2</th>\n",
       "      <td>POZNAŃ GROBLA</td>\n",
       "      <td>40000FA32B7</td>\n",
       "      <td>BLUZA GRANAT</td>\n",
       "      <td>0</td>\n",
       "      <td>C0000765</td>\n",
       "      <td>0</td>\n",
       "    </tr>\n",
       "    <tr>\n",
       "      <th>3</th>\n",
       "      <td>POZNAŃ GROBLA</td>\n",
       "      <td>40000FA32ED</td>\n",
       "      <td>BLUZA GRANAT</td>\n",
       "      <td>0</td>\n",
       "      <td>P0000067</td>\n",
       "      <td>0</td>\n",
       "    </tr>\n",
       "    <tr>\n",
       "      <th>4</th>\n",
       "      <td>POZNAŃ GROBLA</td>\n",
       "      <td>6C0001B13AC</td>\n",
       "      <td>BLUZA GRANAT</td>\n",
       "      <td>1</td>\n",
       "      <td>P0000758</td>\n",
       "      <td>1</td>\n",
       "    </tr>\n",
       "  </tbody>\n",
       "</table>\n",
       "</div>"
      ],
      "text/plain": [
       "           Nazwa Tożsamość odzieży          Opis  Ilość prań      Imię  \\\n",
       "0  POZNAŃ GROBLA       40000FA2717  BLUZA GRANAT           1  P0000751   \n",
       "1  POZNAŃ GROBLA       40000FA2FD0  BLUZA GRANAT           0  C0000765   \n",
       "2  POZNAŃ GROBLA       40000FA32B7  BLUZA GRANAT           0  C0000765   \n",
       "3  POZNAŃ GROBLA       40000FA32ED  BLUZA GRANAT           0  P0000067   \n",
       "4  POZNAŃ GROBLA       6C0001B13AC  BLUZA GRANAT           1  P0000758   \n",
       "\n",
       "   Liczba prań dla aktualnego użytkownika odzieży.  \n",
       "0                                                0  \n",
       "1                                                0  \n",
       "2                                                0  \n",
       "3                                                0  \n",
       "4                                                1  "
      ]
     },
     "execution_count": 52,
     "metadata": {},
     "output_type": "execute_result"
    }
   ],
   "source": [
    "df.head()"
   ]
  },
  {
   "cell_type": "code",
   "execution_count": 53,
   "id": "0aaea348",
   "metadata": {},
   "outputs": [],
   "source": [
    "df[['Odział', 'Jednostka']] = df['Nazwa'].str.split(\" \", expand=True, n=1)"
   ]
  },
  {
   "cell_type": "code",
   "execution_count": 54,
   "id": "69d0326a",
   "metadata": {},
   "outputs": [
    {
     "data": {
      "text/html": [
       "<div>\n",
       "<style scoped>\n",
       "    .dataframe tbody tr th:only-of-type {\n",
       "        vertical-align: middle;\n",
       "    }\n",
       "\n",
       "    .dataframe tbody tr th {\n",
       "        vertical-align: top;\n",
       "    }\n",
       "\n",
       "    .dataframe thead th {\n",
       "        text-align: right;\n",
       "    }\n",
       "</style>\n",
       "<table border=\"1\" class=\"dataframe\">\n",
       "  <thead>\n",
       "    <tr style=\"text-align: right;\">\n",
       "      <th></th>\n",
       "      <th>Nazwa</th>\n",
       "      <th>Tożsamość odzieży</th>\n",
       "      <th>Opis</th>\n",
       "      <th>Ilość prań</th>\n",
       "      <th>Imię</th>\n",
       "      <th>Liczba prań dla aktualnego użytkownika odzieży.</th>\n",
       "      <th>Odział</th>\n",
       "      <th>Jednostka</th>\n",
       "    </tr>\n",
       "  </thead>\n",
       "  <tbody>\n",
       "    <tr>\n",
       "      <th>0</th>\n",
       "      <td>POZNAŃ GROBLA</td>\n",
       "      <td>40000FA2717</td>\n",
       "      <td>BLUZA GRANAT</td>\n",
       "      <td>1</td>\n",
       "      <td>P0000751</td>\n",
       "      <td>0</td>\n",
       "      <td>POZNAŃ</td>\n",
       "      <td>GROBLA</td>\n",
       "    </tr>\n",
       "    <tr>\n",
       "      <th>1</th>\n",
       "      <td>POZNAŃ GROBLA</td>\n",
       "      <td>40000FA2FD0</td>\n",
       "      <td>BLUZA GRANAT</td>\n",
       "      <td>0</td>\n",
       "      <td>C0000765</td>\n",
       "      <td>0</td>\n",
       "      <td>POZNAŃ</td>\n",
       "      <td>GROBLA</td>\n",
       "    </tr>\n",
       "    <tr>\n",
       "      <th>2</th>\n",
       "      <td>POZNAŃ GROBLA</td>\n",
       "      <td>40000FA32B7</td>\n",
       "      <td>BLUZA GRANAT</td>\n",
       "      <td>0</td>\n",
       "      <td>C0000765</td>\n",
       "      <td>0</td>\n",
       "      <td>POZNAŃ</td>\n",
       "      <td>GROBLA</td>\n",
       "    </tr>\n",
       "    <tr>\n",
       "      <th>3</th>\n",
       "      <td>POZNAŃ GROBLA</td>\n",
       "      <td>40000FA32ED</td>\n",
       "      <td>BLUZA GRANAT</td>\n",
       "      <td>0</td>\n",
       "      <td>P0000067</td>\n",
       "      <td>0</td>\n",
       "      <td>POZNAŃ</td>\n",
       "      <td>GROBLA</td>\n",
       "    </tr>\n",
       "    <tr>\n",
       "      <th>4</th>\n",
       "      <td>POZNAŃ GROBLA</td>\n",
       "      <td>6C0001B13AC</td>\n",
       "      <td>BLUZA GRANAT</td>\n",
       "      <td>1</td>\n",
       "      <td>P0000758</td>\n",
       "      <td>1</td>\n",
       "      <td>POZNAŃ</td>\n",
       "      <td>GROBLA</td>\n",
       "    </tr>\n",
       "  </tbody>\n",
       "</table>\n",
       "</div>"
      ],
      "text/plain": [
       "           Nazwa Tożsamość odzieży          Opis  Ilość prań      Imię  \\\n",
       "0  POZNAŃ GROBLA       40000FA2717  BLUZA GRANAT           1  P0000751   \n",
       "1  POZNAŃ GROBLA       40000FA2FD0  BLUZA GRANAT           0  C0000765   \n",
       "2  POZNAŃ GROBLA       40000FA32B7  BLUZA GRANAT           0  C0000765   \n",
       "3  POZNAŃ GROBLA       40000FA32ED  BLUZA GRANAT           0  P0000067   \n",
       "4  POZNAŃ GROBLA       6C0001B13AC  BLUZA GRANAT           1  P0000758   \n",
       "\n",
       "   Liczba prań dla aktualnego użytkownika odzieży.  Odział Jednostka  \n",
       "0                                                0  POZNAŃ    GROBLA  \n",
       "1                                                0  POZNAŃ    GROBLA  \n",
       "2                                                0  POZNAŃ    GROBLA  \n",
       "3                                                0  POZNAŃ    GROBLA  \n",
       "4                                                1  POZNAŃ    GROBLA  "
      ]
     },
     "execution_count": 54,
     "metadata": {},
     "output_type": "execute_result"
    }
   ],
   "source": [
    "df.head()"
   ]
  },
  {
   "cell_type": "markdown",
   "id": "49c1a6a1",
   "metadata": {},
   "source": [
    "#### W celu podglądu np jaki stan mamy w poszczególnych lokalizacji możemy użyć zapytań znanych np s języka SQL"
   ]
  },
  {
   "cell_type": "code",
   "execution_count": 56,
   "id": "026fdbf4",
   "metadata": {},
   "outputs": [
    {
     "data": {
      "text/html": [
       "<div>\n",
       "<style scoped>\n",
       "    .dataframe tbody tr th:only-of-type {\n",
       "        vertical-align: middle;\n",
       "    }\n",
       "\n",
       "    .dataframe tbody tr th {\n",
       "        vertical-align: top;\n",
       "    }\n",
       "\n",
       "    .dataframe thead th {\n",
       "        text-align: right;\n",
       "    }\n",
       "</style>\n",
       "<table border=\"1\" class=\"dataframe\">\n",
       "  <thead>\n",
       "    <tr style=\"text-align: right;\">\n",
       "      <th></th>\n",
       "      <th>Nazwa</th>\n",
       "      <th>Tożsamość odzieży</th>\n",
       "      <th>Opis</th>\n",
       "      <th>Ilość prań</th>\n",
       "      <th>Imię</th>\n",
       "      <th>Liczba prań dla aktualnego użytkownika odzieży.</th>\n",
       "      <th>Odział</th>\n",
       "      <th>Jednostka</th>\n",
       "    </tr>\n",
       "  </thead>\n",
       "  <tbody>\n",
       "    <tr>\n",
       "      <th>0</th>\n",
       "      <td>POZNAŃ GROBLA</td>\n",
       "      <td>40000FA2717</td>\n",
       "      <td>BLUZA GRANAT</td>\n",
       "      <td>1</td>\n",
       "      <td>P0000751</td>\n",
       "      <td>0</td>\n",
       "      <td>POZNAŃ</td>\n",
       "      <td>GROBLA</td>\n",
       "    </tr>\n",
       "    <tr>\n",
       "      <th>1</th>\n",
       "      <td>POZNAŃ GROBLA</td>\n",
       "      <td>40000FA2FD0</td>\n",
       "      <td>BLUZA GRANAT</td>\n",
       "      <td>0</td>\n",
       "      <td>C0000765</td>\n",
       "      <td>0</td>\n",
       "      <td>POZNAŃ</td>\n",
       "      <td>GROBLA</td>\n",
       "    </tr>\n",
       "    <tr>\n",
       "      <th>2</th>\n",
       "      <td>POZNAŃ GROBLA</td>\n",
       "      <td>40000FA32B7</td>\n",
       "      <td>BLUZA GRANAT</td>\n",
       "      <td>0</td>\n",
       "      <td>C0000765</td>\n",
       "      <td>0</td>\n",
       "      <td>POZNAŃ</td>\n",
       "      <td>GROBLA</td>\n",
       "    </tr>\n",
       "    <tr>\n",
       "      <th>3</th>\n",
       "      <td>POZNAŃ GROBLA</td>\n",
       "      <td>40000FA32ED</td>\n",
       "      <td>BLUZA GRANAT</td>\n",
       "      <td>0</td>\n",
       "      <td>P0000067</td>\n",
       "      <td>0</td>\n",
       "      <td>POZNAŃ</td>\n",
       "      <td>GROBLA</td>\n",
       "    </tr>\n",
       "    <tr>\n",
       "      <th>4</th>\n",
       "      <td>POZNAŃ GROBLA</td>\n",
       "      <td>6C0001B13AC</td>\n",
       "      <td>BLUZA GRANAT</td>\n",
       "      <td>1</td>\n",
       "      <td>P0000758</td>\n",
       "      <td>1</td>\n",
       "      <td>POZNAŃ</td>\n",
       "      <td>GROBLA</td>\n",
       "    </tr>\n",
       "    <tr>\n",
       "      <th>...</th>\n",
       "      <td>...</td>\n",
       "      <td>...</td>\n",
       "      <td>...</td>\n",
       "      <td>...</td>\n",
       "      <td>...</td>\n",
       "      <td>...</td>\n",
       "      <td>...</td>\n",
       "      <td>...</td>\n",
       "    </tr>\n",
       "    <tr>\n",
       "      <th>124</th>\n",
       "      <td>POZNAŃ GROBLA</td>\n",
       "      <td>7C002A0B592</td>\n",
       "      <td>BLUZA GRANAT</td>\n",
       "      <td>0</td>\n",
       "      <td>P0000616</td>\n",
       "      <td>0</td>\n",
       "      <td>POZNAŃ</td>\n",
       "      <td>GROBLA</td>\n",
       "    </tr>\n",
       "    <tr>\n",
       "      <th>125</th>\n",
       "      <td>POZNAŃ GROBLA</td>\n",
       "      <td>7C002A0B61A</td>\n",
       "      <td>BLUZA GRANAT</td>\n",
       "      <td>0</td>\n",
       "      <td>P0000090</td>\n",
       "      <td>0</td>\n",
       "      <td>POZNAŃ</td>\n",
       "      <td>GROBLA</td>\n",
       "    </tr>\n",
       "    <tr>\n",
       "      <th>126</th>\n",
       "      <td>POZNAŃ GROBLA</td>\n",
       "      <td>7C002A0B620</td>\n",
       "      <td>BLUZA GRANAT</td>\n",
       "      <td>0</td>\n",
       "      <td>P0000638</td>\n",
       "      <td>0</td>\n",
       "      <td>POZNAŃ</td>\n",
       "      <td>GROBLA</td>\n",
       "    </tr>\n",
       "    <tr>\n",
       "      <th>127</th>\n",
       "      <td>POZNAŃ GROBLA</td>\n",
       "      <td>7C002A0B63D</td>\n",
       "      <td>BLUZA GRANAT</td>\n",
       "      <td>0</td>\n",
       "      <td>P0000027</td>\n",
       "      <td>0</td>\n",
       "      <td>POZNAŃ</td>\n",
       "      <td>GROBLA</td>\n",
       "    </tr>\n",
       "    <tr>\n",
       "      <th>128</th>\n",
       "      <td>POZNAŃ GROBLA</td>\n",
       "      <td>7C002A0B670</td>\n",
       "      <td>BLUZA GRANAT</td>\n",
       "      <td>0</td>\n",
       "      <td>P0000616</td>\n",
       "      <td>0</td>\n",
       "      <td>POZNAŃ</td>\n",
       "      <td>GROBLA</td>\n",
       "    </tr>\n",
       "  </tbody>\n",
       "</table>\n",
       "<p>129 rows × 8 columns</p>\n",
       "</div>"
      ],
      "text/plain": [
       "             Nazwa Tożsamość odzieży          Opis  Ilość prań      Imię  \\\n",
       "0    POZNAŃ GROBLA       40000FA2717  BLUZA GRANAT           1  P0000751   \n",
       "1    POZNAŃ GROBLA       40000FA2FD0  BLUZA GRANAT           0  C0000765   \n",
       "2    POZNAŃ GROBLA       40000FA32B7  BLUZA GRANAT           0  C0000765   \n",
       "3    POZNAŃ GROBLA       40000FA32ED  BLUZA GRANAT           0  P0000067   \n",
       "4    POZNAŃ GROBLA       6C0001B13AC  BLUZA GRANAT           1  P0000758   \n",
       "..             ...               ...           ...         ...       ...   \n",
       "124  POZNAŃ GROBLA       7C002A0B592  BLUZA GRANAT           0  P0000616   \n",
       "125  POZNAŃ GROBLA       7C002A0B61A  BLUZA GRANAT           0  P0000090   \n",
       "126  POZNAŃ GROBLA       7C002A0B620  BLUZA GRANAT           0  P0000638   \n",
       "127  POZNAŃ GROBLA       7C002A0B63D  BLUZA GRANAT           0  P0000027   \n",
       "128  POZNAŃ GROBLA       7C002A0B670  BLUZA GRANAT           0  P0000616   \n",
       "\n",
       "     Liczba prań dla aktualnego użytkownika odzieży.  Odział Jednostka  \n",
       "0                                                  0  POZNAŃ    GROBLA  \n",
       "1                                                  0  POZNAŃ    GROBLA  \n",
       "2                                                  0  POZNAŃ    GROBLA  \n",
       "3                                                  0  POZNAŃ    GROBLA  \n",
       "4                                                  1  POZNAŃ    GROBLA  \n",
       "..                                               ...     ...       ...  \n",
       "124                                                0  POZNAŃ    GROBLA  \n",
       "125                                                0  POZNAŃ    GROBLA  \n",
       "126                                                0  POZNAŃ    GROBLA  \n",
       "127                                                0  POZNAŃ    GROBLA  \n",
       "128                                                0  POZNAŃ    GROBLA  \n",
       "\n",
       "[129 rows x 8 columns]"
      ]
     },
     "execution_count": 56,
     "metadata": {},
     "output_type": "execute_result"
    }
   ],
   "source": [
    "df.query('Nazwa == \"POZNAŃ GROBLA\" and Opis == \"BLUZA GRANAT\" ')"
   ]
  },
  {
   "cell_type": "markdown",
   "id": "256bbd22",
   "metadata": {},
   "source": [
    "#### Możemy zidentyfikować największego czyścioszka"
   ]
  },
  {
   "cell_type": "code",
   "execution_count": 57,
   "id": "c6b80ed2",
   "metadata": {
    "scrolled": true
   },
   "outputs": [
    {
     "data": {
      "text/plain": [
       "36"
      ]
     },
     "execution_count": 57,
     "metadata": {},
     "output_type": "execute_result"
    }
   ],
   "source": [
    "df['Liczba prań dla aktualnego użytkownika odzieży.'].max()"
   ]
  },
  {
   "cell_type": "code",
   "execution_count": 58,
   "id": "824ecb76",
   "metadata": {},
   "outputs": [
    {
     "data": {
      "text/html": [
       "<div>\n",
       "<style scoped>\n",
       "    .dataframe tbody tr th:only-of-type {\n",
       "        vertical-align: middle;\n",
       "    }\n",
       "\n",
       "    .dataframe tbody tr th {\n",
       "        vertical-align: top;\n",
       "    }\n",
       "\n",
       "    .dataframe thead th {\n",
       "        text-align: right;\n",
       "    }\n",
       "</style>\n",
       "<table border=\"1\" class=\"dataframe\">\n",
       "  <thead>\n",
       "    <tr style=\"text-align: right;\">\n",
       "      <th></th>\n",
       "      <th>Nazwa</th>\n",
       "      <th>Tożsamość odzieży</th>\n",
       "      <th>Opis</th>\n",
       "      <th>Ilość prań</th>\n",
       "      <th>Imię</th>\n",
       "      <th>Liczba prań dla aktualnego użytkownika odzieży.</th>\n",
       "      <th>Odział</th>\n",
       "      <th>Jednostka</th>\n",
       "    </tr>\n",
       "  </thead>\n",
       "  <tbody>\n",
       "    <tr>\n",
       "      <th>7050</th>\n",
       "      <td>POZNAŃ ŚWINOUJŚCIE</td>\n",
       "      <td>6C000736520</td>\n",
       "      <td>POLO</td>\n",
       "      <td>36</td>\n",
       "      <td>C0001748</td>\n",
       "      <td>36</td>\n",
       "      <td>POZNAŃ</td>\n",
       "      <td>ŚWINOUJŚCIE</td>\n",
       "    </tr>\n",
       "  </tbody>\n",
       "</table>\n",
       "</div>"
      ],
      "text/plain": [
       "                   Nazwa Tożsamość odzieży  Opis  Ilość prań      Imię  \\\n",
       "7050  POZNAŃ ŚWINOUJŚCIE       6C000736520  POLO          36  C0001748   \n",
       "\n",
       "      Liczba prań dla aktualnego użytkownika odzieży.  Odział    Jednostka  \n",
       "7050                                               36  POZNAŃ  ŚWINOUJŚCIE  "
      ]
     },
     "execution_count": 58,
     "metadata": {},
     "output_type": "execute_result"
    }
   ],
   "source": [
    "df[df['Liczba prań dla aktualnego użytkownika odzieży.'] == df['Liczba prań dla aktualnego użytkownika odzieży.'].max()]"
   ]
  },
  {
   "cell_type": "code",
   "execution_count": 59,
   "id": "415df894",
   "metadata": {},
   "outputs": [
    {
     "data": {
      "text/html": [
       "<div>\n",
       "<style scoped>\n",
       "    .dataframe tbody tr th:only-of-type {\n",
       "        vertical-align: middle;\n",
       "    }\n",
       "\n",
       "    .dataframe tbody tr th {\n",
       "        vertical-align: top;\n",
       "    }\n",
       "\n",
       "    .dataframe thead th {\n",
       "        text-align: right;\n",
       "    }\n",
       "</style>\n",
       "<table border=\"1\" class=\"dataframe\">\n",
       "  <thead>\n",
       "    <tr style=\"text-align: right;\">\n",
       "      <th></th>\n",
       "      <th>Nazwa</th>\n",
       "      <th>Tożsamość odzieży</th>\n",
       "      <th>Opis</th>\n",
       "      <th>Ilość prań</th>\n",
       "      <th>Imię</th>\n",
       "      <th>Liczba prań dla aktualnego użytkownika odzieży.</th>\n",
       "      <th>Odział</th>\n",
       "      <th>Jednostka</th>\n",
       "    </tr>\n",
       "  </thead>\n",
       "  <tbody>\n",
       "    <tr>\n",
       "      <th>5722</th>\n",
       "      <td>POZNAŃ ŚWINOUJŚCIE</td>\n",
       "      <td>6C0001B1415</td>\n",
       "      <td>BLUZA GRANAT</td>\n",
       "      <td>0</td>\n",
       "      <td>C0001748</td>\n",
       "      <td>0</td>\n",
       "      <td>POZNAŃ</td>\n",
       "      <td>ŚWINOUJŚCIE</td>\n",
       "    </tr>\n",
       "    <tr>\n",
       "      <th>5780</th>\n",
       "      <td>POZNAŃ ŚWINOUJŚCIE</td>\n",
       "      <td>6C0001B1594</td>\n",
       "      <td>BLUZA GRANAT</td>\n",
       "      <td>0</td>\n",
       "      <td>C0001748</td>\n",
       "      <td>0</td>\n",
       "      <td>POZNAŃ</td>\n",
       "      <td>ŚWINOUJŚCIE</td>\n",
       "    </tr>\n",
       "    <tr>\n",
       "      <th>6041</th>\n",
       "      <td>POZNAŃ ŚWINOUJŚCIE</td>\n",
       "      <td>6C0002CA0B2</td>\n",
       "      <td>KAMIZELKA OC</td>\n",
       "      <td>0</td>\n",
       "      <td>C0001748</td>\n",
       "      <td>0</td>\n",
       "      <td>POZNAŃ</td>\n",
       "      <td>ŚWINOUJŚCIE</td>\n",
       "    </tr>\n",
       "    <tr>\n",
       "      <th>6267</th>\n",
       "      <td>POZNAŃ ŚWINOUJŚCIE</td>\n",
       "      <td>6C00073593A</td>\n",
       "      <td>KURTKA OC.</td>\n",
       "      <td>0</td>\n",
       "      <td>C0001748</td>\n",
       "      <td>0</td>\n",
       "      <td>POZNAŃ</td>\n",
       "      <td>ŚWINOUJŚCIE</td>\n",
       "    </tr>\n",
       "    <tr>\n",
       "      <th>6305</th>\n",
       "      <td>POZNAŃ ŚWINOUJŚCIE</td>\n",
       "      <td>6C0007429FC</td>\n",
       "      <td>KURTKA OC.</td>\n",
       "      <td>0</td>\n",
       "      <td>C0001748</td>\n",
       "      <td>0</td>\n",
       "      <td>POZNAŃ</td>\n",
       "      <td>ŚWINOUJŚCIE</td>\n",
       "    </tr>\n",
       "    <tr>\n",
       "      <th>6400</th>\n",
       "      <td>POZNAŃ ŚWINOUJŚCIE</td>\n",
       "      <td>40000FA2389</td>\n",
       "      <td>OGRODNICZ OC.</td>\n",
       "      <td>0</td>\n",
       "      <td>C0001748</td>\n",
       "      <td>0</td>\n",
       "      <td>POZNAŃ</td>\n",
       "      <td>ŚWINOUJŚCIE</td>\n",
       "    </tr>\n",
       "    <tr>\n",
       "      <th>6425</th>\n",
       "      <td>POZNAŃ ŚWINOUJŚCIE</td>\n",
       "      <td>40000FA24E0</td>\n",
       "      <td>OGRODNICZ OC.</td>\n",
       "      <td>0</td>\n",
       "      <td>C0001748</td>\n",
       "      <td>0</td>\n",
       "      <td>POZNAŃ</td>\n",
       "      <td>ŚWINOUJŚCIE</td>\n",
       "    </tr>\n",
       "    <tr>\n",
       "      <th>6610</th>\n",
       "      <td>POZNAŃ ŚWINOUJŚCIE</td>\n",
       "      <td>6C0001B143C</td>\n",
       "      <td>OGRODNICZKI</td>\n",
       "      <td>2</td>\n",
       "      <td>C0001748</td>\n",
       "      <td>2</td>\n",
       "      <td>POZNAŃ</td>\n",
       "      <td>ŚWINOUJŚCIE</td>\n",
       "    </tr>\n",
       "    <tr>\n",
       "      <th>6612</th>\n",
       "      <td>POZNAŃ ŚWINOUJŚCIE</td>\n",
       "      <td>6C0001B1444</td>\n",
       "      <td>OGRODNICZKI</td>\n",
       "      <td>2</td>\n",
       "      <td>C0001748</td>\n",
       "      <td>2</td>\n",
       "      <td>POZNAŃ</td>\n",
       "      <td>ŚWINOUJŚCIE</td>\n",
       "    </tr>\n",
       "    <tr>\n",
       "      <th>7050</th>\n",
       "      <td>POZNAŃ ŚWINOUJŚCIE</td>\n",
       "      <td>6C000736520</td>\n",
       "      <td>POLO</td>\n",
       "      <td>36</td>\n",
       "      <td>C0001748</td>\n",
       "      <td>36</td>\n",
       "      <td>POZNAŃ</td>\n",
       "      <td>ŚWINOUJŚCIE</td>\n",
       "    </tr>\n",
       "    <tr>\n",
       "      <th>7110</th>\n",
       "      <td>POZNAŃ ŚWINOUJŚCIE</td>\n",
       "      <td>6C0007365CB</td>\n",
       "      <td>POLO</td>\n",
       "      <td>35</td>\n",
       "      <td>C0001748</td>\n",
       "      <td>35</td>\n",
       "      <td>POZNAŃ</td>\n",
       "      <td>ŚWINOUJŚCIE</td>\n",
       "    </tr>\n",
       "    <tr>\n",
       "      <th>7390</th>\n",
       "      <td>POZNAŃ ŚWINOUJŚCIE</td>\n",
       "      <td>6C0007428B2</td>\n",
       "      <td>SOFTSHELL</td>\n",
       "      <td>0</td>\n",
       "      <td>C0001748</td>\n",
       "      <td>0</td>\n",
       "      <td>POZNAŃ</td>\n",
       "      <td>ŚWINOUJŚCIE</td>\n",
       "    </tr>\n",
       "    <tr>\n",
       "      <th>7412</th>\n",
       "      <td>POZNAŃ ŚWINOUJŚCIE</td>\n",
       "      <td>6C00074290E</td>\n",
       "      <td>SOFTSHELL</td>\n",
       "      <td>1</td>\n",
       "      <td>C0001748</td>\n",
       "      <td>1</td>\n",
       "      <td>POZNAŃ</td>\n",
       "      <td>ŚWINOUJŚCIE</td>\n",
       "    </tr>\n",
       "    <tr>\n",
       "      <th>7554</th>\n",
       "      <td>POZNAŃ ŚWINOUJŚCIE</td>\n",
       "      <td>6C0001B1510</td>\n",
       "      <td>SPODNIE</td>\n",
       "      <td>0</td>\n",
       "      <td>C0001748</td>\n",
       "      <td>0</td>\n",
       "      <td>POZNAŃ</td>\n",
       "      <td>ŚWINOUJŚCIE</td>\n",
       "    </tr>\n",
       "    <tr>\n",
       "      <th>7574</th>\n",
       "      <td>POZNAŃ ŚWINOUJŚCIE</td>\n",
       "      <td>6C0003AC629</td>\n",
       "      <td>SPODNIE</td>\n",
       "      <td>0</td>\n",
       "      <td>C0001748</td>\n",
       "      <td>0</td>\n",
       "      <td>POZNAŃ</td>\n",
       "      <td>ŚWINOUJŚCIE</td>\n",
       "    </tr>\n",
       "  </tbody>\n",
       "</table>\n",
       "</div>"
      ],
      "text/plain": [
       "                   Nazwa Tożsamość odzieży           Opis  Ilość prań  \\\n",
       "5722  POZNAŃ ŚWINOUJŚCIE       6C0001B1415   BLUZA GRANAT           0   \n",
       "5780  POZNAŃ ŚWINOUJŚCIE       6C0001B1594   BLUZA GRANAT           0   \n",
       "6041  POZNAŃ ŚWINOUJŚCIE       6C0002CA0B2   KAMIZELKA OC           0   \n",
       "6267  POZNAŃ ŚWINOUJŚCIE       6C00073593A     KURTKA OC.           0   \n",
       "6305  POZNAŃ ŚWINOUJŚCIE       6C0007429FC     KURTKA OC.           0   \n",
       "6400  POZNAŃ ŚWINOUJŚCIE       40000FA2389  OGRODNICZ OC.           0   \n",
       "6425  POZNAŃ ŚWINOUJŚCIE       40000FA24E0  OGRODNICZ OC.           0   \n",
       "6610  POZNAŃ ŚWINOUJŚCIE       6C0001B143C    OGRODNICZKI           2   \n",
       "6612  POZNAŃ ŚWINOUJŚCIE       6C0001B1444    OGRODNICZKI           2   \n",
       "7050  POZNAŃ ŚWINOUJŚCIE       6C000736520           POLO          36   \n",
       "7110  POZNAŃ ŚWINOUJŚCIE       6C0007365CB           POLO          35   \n",
       "7390  POZNAŃ ŚWINOUJŚCIE       6C0007428B2      SOFTSHELL           0   \n",
       "7412  POZNAŃ ŚWINOUJŚCIE       6C00074290E      SOFTSHELL           1   \n",
       "7554  POZNAŃ ŚWINOUJŚCIE       6C0001B1510        SPODNIE           0   \n",
       "7574  POZNAŃ ŚWINOUJŚCIE       6C0003AC629        SPODNIE           0   \n",
       "\n",
       "          Imię  Liczba prań dla aktualnego użytkownika odzieży.  Odział  \\\n",
       "5722  C0001748                                                0  POZNAŃ   \n",
       "5780  C0001748                                                0  POZNAŃ   \n",
       "6041  C0001748                                                0  POZNAŃ   \n",
       "6267  C0001748                                                0  POZNAŃ   \n",
       "6305  C0001748                                                0  POZNAŃ   \n",
       "6400  C0001748                                                0  POZNAŃ   \n",
       "6425  C0001748                                                0  POZNAŃ   \n",
       "6610  C0001748                                                2  POZNAŃ   \n",
       "6612  C0001748                                                2  POZNAŃ   \n",
       "7050  C0001748                                               36  POZNAŃ   \n",
       "7110  C0001748                                               35  POZNAŃ   \n",
       "7390  C0001748                                                0  POZNAŃ   \n",
       "7412  C0001748                                                1  POZNAŃ   \n",
       "7554  C0001748                                                0  POZNAŃ   \n",
       "7574  C0001748                                                0  POZNAŃ   \n",
       "\n",
       "        Jednostka  \n",
       "5722  ŚWINOUJŚCIE  \n",
       "5780  ŚWINOUJŚCIE  \n",
       "6041  ŚWINOUJŚCIE  \n",
       "6267  ŚWINOUJŚCIE  \n",
       "6305  ŚWINOUJŚCIE  \n",
       "6400  ŚWINOUJŚCIE  \n",
       "6425  ŚWINOUJŚCIE  \n",
       "6610  ŚWINOUJŚCIE  \n",
       "6612  ŚWINOUJŚCIE  \n",
       "7050  ŚWINOUJŚCIE  \n",
       "7110  ŚWINOUJŚCIE  \n",
       "7390  ŚWINOUJŚCIE  \n",
       "7412  ŚWINOUJŚCIE  \n",
       "7554  ŚWINOUJŚCIE  \n",
       "7574  ŚWINOUJŚCIE  "
      ]
     },
     "execution_count": 59,
     "metadata": {},
     "output_type": "execute_result"
    }
   ],
   "source": [
    "df[df[\"Imię\"] == 'C0001748']"
   ]
  },
  {
   "cell_type": "code",
   "execution_count": 60,
   "id": "508c0a7c",
   "metadata": {},
   "outputs": [],
   "source": [
    "asortyment = df.groupby(by='Opis', axis=0)"
   ]
  },
  {
   "cell_type": "code",
   "execution_count": 61,
   "id": "e39e81ee",
   "metadata": {},
   "outputs": [
    {
     "data": {
      "text/plain": [
       "<pandas.core.groupby.generic.DataFrameGroupBy object at 0x000002146E06AE20>"
      ]
     },
     "execution_count": 61,
     "metadata": {},
     "output_type": "execute_result"
    }
   ],
   "source": [
    "asortyment"
   ]
  },
  {
   "cell_type": "code",
   "execution_count": 62,
   "id": "0c3bc652",
   "metadata": {},
   "outputs": [
    {
     "data": {
      "text/plain": [
       "Opis\n",
       "BLUZA GRANAT     6679\n",
       "KAMIZELKA OC     2010\n",
       "KURTKA OC.       3687\n",
       "OGRODNICZ OC.    2022\n",
       "OGRODNICZKI      4013\n",
       "POLO             6696\n",
       "SOFTSHELL        3694\n",
       "SPODNIE          2716\n",
       "dtype: int64"
      ]
     },
     "execution_count": 62,
     "metadata": {},
     "output_type": "execute_result"
    }
   ],
   "source": [
    "asortyment.size()"
   ]
  },
  {
   "cell_type": "code",
   "execution_count": 63,
   "id": "e0b5563e",
   "metadata": {},
   "outputs": [],
   "source": [
    "prania = df.groupby( by=['Ilość prań', 'Opis' ])"
   ]
  },
  {
   "cell_type": "code",
   "execution_count": 64,
   "id": "85c89820",
   "metadata": {},
   "outputs": [
    {
     "data": {
      "text/plain": [
       "Ilość prań  Opis         \n",
       "0           BLUZA GRANAT     3410\n",
       "            KAMIZELKA OC     1201\n",
       "            KURTKA OC.       2216\n",
       "            OGRODNICZ OC.    1535\n",
       "            OGRODNICZKI       672\n",
       "                             ... \n",
       "28          POLO                3\n",
       "            SPODNIE             1\n",
       "32          OGRODNICZKI         1\n",
       "35          POLO                1\n",
       "36          POLO                1\n",
       "Length: 162, dtype: int64"
      ]
     },
     "execution_count": 64,
     "metadata": {},
     "output_type": "execute_result"
    }
   ],
   "source": [
    "prania.size()"
   ]
  },
  {
   "cell_type": "code",
   "execution_count": 65,
   "id": "f2a66bb1",
   "metadata": {},
   "outputs": [
    {
     "data": {
      "text/html": [
       "<div>\n",
       "<style scoped>\n",
       "    .dataframe tbody tr th:only-of-type {\n",
       "        vertical-align: middle;\n",
       "    }\n",
       "\n",
       "    .dataframe tbody tr th {\n",
       "        vertical-align: top;\n",
       "    }\n",
       "\n",
       "    .dataframe thead th {\n",
       "        text-align: right;\n",
       "    }\n",
       "</style>\n",
       "<table border=\"1\" class=\"dataframe\">\n",
       "  <thead>\n",
       "    <tr style=\"text-align: right;\">\n",
       "      <th></th>\n",
       "      <th>Nazwa</th>\n",
       "      <th>Tożsamość odzieży</th>\n",
       "      <th>Opis</th>\n",
       "      <th>Ilość prań</th>\n",
       "      <th>Imię</th>\n",
       "      <th>Liczba prań dla aktualnego użytkownika odzieży.</th>\n",
       "      <th>Odział</th>\n",
       "      <th>Jednostka</th>\n",
       "    </tr>\n",
       "  </thead>\n",
       "  <tbody>\n",
       "    <tr>\n",
       "      <th>2883</th>\n",
       "      <td>POZNAŃ ODOLANÓW</td>\n",
       "      <td>7C001AFE41A</td>\n",
       "      <td>POLO</td>\n",
       "      <td>28</td>\n",
       "      <td>P0000526</td>\n",
       "      <td>28</td>\n",
       "      <td>POZNAŃ</td>\n",
       "      <td>ODOLANÓW</td>\n",
       "    </tr>\n",
       "    <tr>\n",
       "      <th>2885</th>\n",
       "      <td>POZNAŃ ODOLANÓW</td>\n",
       "      <td>7C001AFE426</td>\n",
       "      <td>POLO</td>\n",
       "      <td>28</td>\n",
       "      <td>P0000526</td>\n",
       "      <td>28</td>\n",
       "      <td>POZNAŃ</td>\n",
       "      <td>ODOLANÓW</td>\n",
       "    </tr>\n",
       "    <tr>\n",
       "      <th>15984</th>\n",
       "      <td>TARNÓW JAROSŁAW</td>\n",
       "      <td>7C001AFB707</td>\n",
       "      <td>POLO</td>\n",
       "      <td>28</td>\n",
       "      <td>T0030158</td>\n",
       "      <td>28</td>\n",
       "      <td>TARNÓW</td>\n",
       "      <td>JAROSŁAW</td>\n",
       "    </tr>\n",
       "  </tbody>\n",
       "</table>\n",
       "</div>"
      ],
      "text/plain": [
       "                 Nazwa Tożsamość odzieży  Opis  Ilość prań      Imię  \\\n",
       "2883   POZNAŃ ODOLANÓW       7C001AFE41A  POLO          28  P0000526   \n",
       "2885   POZNAŃ ODOLANÓW       7C001AFE426  POLO          28  P0000526   \n",
       "15984  TARNÓW JAROSŁAW       7C001AFB707  POLO          28  T0030158   \n",
       "\n",
       "       Liczba prań dla aktualnego użytkownika odzieży.  Odział Jednostka  \n",
       "2883                                                28  POZNAŃ  ODOLANÓW  \n",
       "2885                                                28  POZNAŃ  ODOLANÓW  \n",
       "15984                                               28  TARNÓW  JAROSŁAW  "
      ]
     },
     "execution_count": 65,
     "metadata": {},
     "output_type": "execute_result"
    }
   ],
   "source": [
    "prania.get_group((28,'POLO'))"
   ]
  },
  {
   "cell_type": "markdown",
   "id": "910c937b",
   "metadata": {},
   "source": [
    "#### Możemy przygotować tabelę przestawną"
   ]
  },
  {
   "cell_type": "code",
   "execution_count": 66,
   "id": "7ec02534",
   "metadata": {},
   "outputs": [
    {
     "data": {
      "text/html": [
       "<div>\n",
       "<style scoped>\n",
       "    .dataframe tbody tr th:only-of-type {\n",
       "        vertical-align: middle;\n",
       "    }\n",
       "\n",
       "    .dataframe tbody tr th {\n",
       "        vertical-align: top;\n",
       "    }\n",
       "\n",
       "    .dataframe thead tr th {\n",
       "        text-align: left;\n",
       "    }\n",
       "\n",
       "    .dataframe thead tr:last-of-type th {\n",
       "        text-align: right;\n",
       "    }\n",
       "</style>\n",
       "<table border=\"1\" class=\"dataframe\">\n",
       "  <thead>\n",
       "    <tr>\n",
       "      <th></th>\n",
       "      <th colspan=\"10\" halign=\"left\">Imię</th>\n",
       "      <th>...</th>\n",
       "      <th colspan=\"10\" halign=\"left\">Tożsamość odzieży</th>\n",
       "    </tr>\n",
       "    <tr>\n",
       "      <th>Ilość prań</th>\n",
       "      <th>0</th>\n",
       "      <th>1</th>\n",
       "      <th>2</th>\n",
       "      <th>3</th>\n",
       "      <th>4</th>\n",
       "      <th>5</th>\n",
       "      <th>6</th>\n",
       "      <th>7</th>\n",
       "      <th>8</th>\n",
       "      <th>9</th>\n",
       "      <th>...</th>\n",
       "      <th>23</th>\n",
       "      <th>24</th>\n",
       "      <th>25</th>\n",
       "      <th>26</th>\n",
       "      <th>27</th>\n",
       "      <th>28</th>\n",
       "      <th>32</th>\n",
       "      <th>35</th>\n",
       "      <th>36</th>\n",
       "      <th>All</th>\n",
       "    </tr>\n",
       "    <tr>\n",
       "      <th>Opis</th>\n",
       "      <th></th>\n",
       "      <th></th>\n",
       "      <th></th>\n",
       "      <th></th>\n",
       "      <th></th>\n",
       "      <th></th>\n",
       "      <th></th>\n",
       "      <th></th>\n",
       "      <th></th>\n",
       "      <th></th>\n",
       "      <th></th>\n",
       "      <th></th>\n",
       "      <th></th>\n",
       "      <th></th>\n",
       "      <th></th>\n",
       "      <th></th>\n",
       "      <th></th>\n",
       "      <th></th>\n",
       "      <th></th>\n",
       "      <th></th>\n",
       "      <th></th>\n",
       "    </tr>\n",
       "  </thead>\n",
       "  <tbody>\n",
       "    <tr>\n",
       "      <th>BLUZA GRANAT</th>\n",
       "      <td>3410</td>\n",
       "      <td>1046</td>\n",
       "      <td>566</td>\n",
       "      <td>394</td>\n",
       "      <td>279</td>\n",
       "      <td>203</td>\n",
       "      <td>184</td>\n",
       "      <td>142</td>\n",
       "      <td>103</td>\n",
       "      <td>92</td>\n",
       "      <td>...</td>\n",
       "      <td>1</td>\n",
       "      <td>1</td>\n",
       "      <td>1</td>\n",
       "      <td>1</td>\n",
       "      <td>0</td>\n",
       "      <td>0</td>\n",
       "      <td>0</td>\n",
       "      <td>0</td>\n",
       "      <td>0</td>\n",
       "      <td>6679</td>\n",
       "    </tr>\n",
       "    <tr>\n",
       "      <th>KAMIZELKA OC</th>\n",
       "      <td>1201</td>\n",
       "      <td>365</td>\n",
       "      <td>175</td>\n",
       "      <td>119</td>\n",
       "      <td>56</td>\n",
       "      <td>36</td>\n",
       "      <td>25</td>\n",
       "      <td>12</td>\n",
       "      <td>10</td>\n",
       "      <td>5</td>\n",
       "      <td>...</td>\n",
       "      <td>0</td>\n",
       "      <td>0</td>\n",
       "      <td>0</td>\n",
       "      <td>0</td>\n",
       "      <td>0</td>\n",
       "      <td>0</td>\n",
       "      <td>0</td>\n",
       "      <td>0</td>\n",
       "      <td>0</td>\n",
       "      <td>2010</td>\n",
       "    </tr>\n",
       "    <tr>\n",
       "      <th>KURTKA OC.</th>\n",
       "      <td>2216</td>\n",
       "      <td>723</td>\n",
       "      <td>365</td>\n",
       "      <td>175</td>\n",
       "      <td>98</td>\n",
       "      <td>44</td>\n",
       "      <td>34</td>\n",
       "      <td>15</td>\n",
       "      <td>9</td>\n",
       "      <td>1</td>\n",
       "      <td>...</td>\n",
       "      <td>0</td>\n",
       "      <td>0</td>\n",
       "      <td>0</td>\n",
       "      <td>0</td>\n",
       "      <td>0</td>\n",
       "      <td>0</td>\n",
       "      <td>0</td>\n",
       "      <td>0</td>\n",
       "      <td>0</td>\n",
       "      <td>3687</td>\n",
       "    </tr>\n",
       "    <tr>\n",
       "      <th>OGRODNICZ OC.</th>\n",
       "      <td>1535</td>\n",
       "      <td>279</td>\n",
       "      <td>98</td>\n",
       "      <td>45</td>\n",
       "      <td>35</td>\n",
       "      <td>21</td>\n",
       "      <td>5</td>\n",
       "      <td>2</td>\n",
       "      <td>1</td>\n",
       "      <td>1</td>\n",
       "      <td>...</td>\n",
       "      <td>0</td>\n",
       "      <td>0</td>\n",
       "      <td>0</td>\n",
       "      <td>0</td>\n",
       "      <td>0</td>\n",
       "      <td>0</td>\n",
       "      <td>0</td>\n",
       "      <td>0</td>\n",
       "      <td>0</td>\n",
       "      <td>2022</td>\n",
       "    </tr>\n",
       "    <tr>\n",
       "      <th>OGRODNICZKI</th>\n",
       "      <td>672</td>\n",
       "      <td>236</td>\n",
       "      <td>204</td>\n",
       "      <td>204</td>\n",
       "      <td>188</td>\n",
       "      <td>207</td>\n",
       "      <td>210</td>\n",
       "      <td>216</td>\n",
       "      <td>213</td>\n",
       "      <td>223</td>\n",
       "      <td>...</td>\n",
       "      <td>19</td>\n",
       "      <td>14</td>\n",
       "      <td>9</td>\n",
       "      <td>3</td>\n",
       "      <td>3</td>\n",
       "      <td>0</td>\n",
       "      <td>1</td>\n",
       "      <td>0</td>\n",
       "      <td>0</td>\n",
       "      <td>4013</td>\n",
       "    </tr>\n",
       "    <tr>\n",
       "      <th>POLO</th>\n",
       "      <td>1782</td>\n",
       "      <td>636</td>\n",
       "      <td>517</td>\n",
       "      <td>436</td>\n",
       "      <td>405</td>\n",
       "      <td>350</td>\n",
       "      <td>378</td>\n",
       "      <td>335</td>\n",
       "      <td>336</td>\n",
       "      <td>228</td>\n",
       "      <td>...</td>\n",
       "      <td>11</td>\n",
       "      <td>4</td>\n",
       "      <td>4</td>\n",
       "      <td>3</td>\n",
       "      <td>0</td>\n",
       "      <td>3</td>\n",
       "      <td>0</td>\n",
       "      <td>1</td>\n",
       "      <td>1</td>\n",
       "      <td>6696</td>\n",
       "    </tr>\n",
       "    <tr>\n",
       "      <th>SOFTSHELL</th>\n",
       "      <td>2019</td>\n",
       "      <td>647</td>\n",
       "      <td>405</td>\n",
       "      <td>247</td>\n",
       "      <td>153</td>\n",
       "      <td>86</td>\n",
       "      <td>62</td>\n",
       "      <td>32</td>\n",
       "      <td>21</td>\n",
       "      <td>12</td>\n",
       "      <td>...</td>\n",
       "      <td>0</td>\n",
       "      <td>0</td>\n",
       "      <td>0</td>\n",
       "      <td>0</td>\n",
       "      <td>0</td>\n",
       "      <td>0</td>\n",
       "      <td>0</td>\n",
       "      <td>0</td>\n",
       "      <td>0</td>\n",
       "      <td>3694</td>\n",
       "    </tr>\n",
       "    <tr>\n",
       "      <th>SPODNIE</th>\n",
       "      <td>1242</td>\n",
       "      <td>467</td>\n",
       "      <td>264</td>\n",
       "      <td>195</td>\n",
       "      <td>124</td>\n",
       "      <td>108</td>\n",
       "      <td>73</td>\n",
       "      <td>57</td>\n",
       "      <td>45</td>\n",
       "      <td>25</td>\n",
       "      <td>...</td>\n",
       "      <td>0</td>\n",
       "      <td>1</td>\n",
       "      <td>2</td>\n",
       "      <td>0</td>\n",
       "      <td>0</td>\n",
       "      <td>1</td>\n",
       "      <td>0</td>\n",
       "      <td>0</td>\n",
       "      <td>0</td>\n",
       "      <td>2716</td>\n",
       "    </tr>\n",
       "    <tr>\n",
       "      <th>All</th>\n",
       "      <td>14077</td>\n",
       "      <td>4399</td>\n",
       "      <td>2594</td>\n",
       "      <td>1815</td>\n",
       "      <td>1338</td>\n",
       "      <td>1055</td>\n",
       "      <td>971</td>\n",
       "      <td>811</td>\n",
       "      <td>738</td>\n",
       "      <td>587</td>\n",
       "      <td>...</td>\n",
       "      <td>31</td>\n",
       "      <td>20</td>\n",
       "      <td>16</td>\n",
       "      <td>7</td>\n",
       "      <td>3</td>\n",
       "      <td>4</td>\n",
       "      <td>1</td>\n",
       "      <td>1</td>\n",
       "      <td>1</td>\n",
       "      <td>31517</td>\n",
       "    </tr>\n",
       "  </tbody>\n",
       "</table>\n",
       "<p>9 rows × 198 columns</p>\n",
       "</div>"
      ],
      "text/plain": [
       "                Imię                                                    ...  \\\n",
       "Ilość prań         0     1     2     3     4     5    6    7    8    9  ...   \n",
       "Opis                                                                    ...   \n",
       "BLUZA GRANAT    3410  1046   566   394   279   203  184  142  103   92  ...   \n",
       "KAMIZELKA OC    1201   365   175   119    56    36   25   12   10    5  ...   \n",
       "KURTKA OC.      2216   723   365   175    98    44   34   15    9    1  ...   \n",
       "OGRODNICZ OC.   1535   279    98    45    35    21    5    2    1    1  ...   \n",
       "OGRODNICZKI      672   236   204   204   188   207  210  216  213  223  ...   \n",
       "POLO            1782   636   517   436   405   350  378  335  336  228  ...   \n",
       "SOFTSHELL       2019   647   405   247   153    86   62   32   21   12  ...   \n",
       "SPODNIE         1242   467   264   195   124   108   73   57   45   25  ...   \n",
       "All            14077  4399  2594  1815  1338  1055  971  811  738  587  ...   \n",
       "\n",
       "              Tożsamość odzieży                                   \n",
       "Ilość prań                   23  24  25 26 27 28 32 35 36    All  \n",
       "Opis                                                              \n",
       "BLUZA GRANAT                  1   1   1  1  0  0  0  0  0   6679  \n",
       "KAMIZELKA OC                  0   0   0  0  0  0  0  0  0   2010  \n",
       "KURTKA OC.                    0   0   0  0  0  0  0  0  0   3687  \n",
       "OGRODNICZ OC.                 0   0   0  0  0  0  0  0  0   2022  \n",
       "OGRODNICZKI                  19  14   9  3  3  0  1  0  0   4013  \n",
       "POLO                         11   4   4  3  0  3  0  1  1   6696  \n",
       "SOFTSHELL                     0   0   0  0  0  0  0  0  0   3694  \n",
       "SPODNIE                       0   1   2  0  0  1  0  0  0   2716  \n",
       "All                          31  20  16  7  3  4  1  1  1  31517  \n",
       "\n",
       "[9 rows x 198 columns]"
      ]
     },
     "execution_count": 66,
     "metadata": {},
     "output_type": "execute_result"
    }
   ],
   "source": [
    "df.pivot_table(index = \"Opis\", columns='Ilość prań', aggfunc='count', fill_value=0, margins=True)"
   ]
  },
  {
   "cell_type": "markdown",
   "id": "4719829d",
   "metadata": {},
   "source": [
    "#### Wczytujemy informacje o grupach przypisania"
   ]
  },
  {
   "cell_type": "code",
   "execution_count": 67,
   "id": "697873ee",
   "metadata": {},
   "outputs": [],
   "source": [
    "grupy = pd.read_csv(r'F:\\grupy.csv', delimiter=';') # I'm sorry but I don't share data files"
   ]
  },
  {
   "cell_type": "code",
   "execution_count": 69,
   "id": "0511cd91",
   "metadata": {},
   "outputs": [
    {
     "data": {
      "text/html": [
       "<div>\n",
       "<style scoped>\n",
       "    .dataframe tbody tr th:only-of-type {\n",
       "        vertical-align: middle;\n",
       "    }\n",
       "\n",
       "    .dataframe tbody tr th {\n",
       "        vertical-align: top;\n",
       "    }\n",
       "\n",
       "    .dataframe thead th {\n",
       "        text-align: right;\n",
       "    }\n",
       "</style>\n",
       "<table border=\"1\" class=\"dataframe\">\n",
       "  <thead>\n",
       "    <tr style=\"text-align: right;\">\n",
       "      <th></th>\n",
       "      <th>Imię</th>\n",
       "      <th>Grupa</th>\n",
       "    </tr>\n",
       "  </thead>\n",
       "  <tbody>\n",
       "    <tr>\n",
       "      <th>0</th>\n",
       "      <td>P0000751</td>\n",
       "      <td>2</td>\n",
       "    </tr>\n",
       "    <tr>\n",
       "      <th>1</th>\n",
       "      <td>C0000765</td>\n",
       "      <td>1</td>\n",
       "    </tr>\n",
       "    <tr>\n",
       "      <th>2</th>\n",
       "      <td>P0000067</td>\n",
       "      <td>3</td>\n",
       "    </tr>\n",
       "    <tr>\n",
       "      <th>3</th>\n",
       "      <td>P0000758</td>\n",
       "      <td>3</td>\n",
       "    </tr>\n",
       "    <tr>\n",
       "      <th>4</th>\n",
       "      <td>P0000691</td>\n",
       "      <td>3</td>\n",
       "    </tr>\n",
       "  </tbody>\n",
       "</table>\n",
       "</div>"
      ],
      "text/plain": [
       "       Imię  Grupa\n",
       "0  P0000751      2\n",
       "1  C0000765      1\n",
       "2  P0000067      3\n",
       "3  P0000758      3\n",
       "4  P0000691      3"
      ]
     },
     "execution_count": 69,
     "metadata": {},
     "output_type": "execute_result"
    }
   ],
   "source": [
    "grupy.head()"
   ]
  },
  {
   "cell_type": "code",
   "execution_count": 70,
   "id": "b53ca5c6",
   "metadata": {},
   "outputs": [],
   "source": [
    "df = df.merge(grupy, how='left', on='Imię')"
   ]
  },
  {
   "cell_type": "code",
   "execution_count": 71,
   "id": "6e4e1496",
   "metadata": {},
   "outputs": [
    {
     "data": {
      "text/html": [
       "<div>\n",
       "<style scoped>\n",
       "    .dataframe tbody tr th:only-of-type {\n",
       "        vertical-align: middle;\n",
       "    }\n",
       "\n",
       "    .dataframe tbody tr th {\n",
       "        vertical-align: top;\n",
       "    }\n",
       "\n",
       "    .dataframe thead th {\n",
       "        text-align: right;\n",
       "    }\n",
       "</style>\n",
       "<table border=\"1\" class=\"dataframe\">\n",
       "  <thead>\n",
       "    <tr style=\"text-align: right;\">\n",
       "      <th></th>\n",
       "      <th>Nazwa</th>\n",
       "      <th>Tożsamość odzieży</th>\n",
       "      <th>Opis</th>\n",
       "      <th>Ilość prań</th>\n",
       "      <th>Imię</th>\n",
       "      <th>Liczba prań dla aktualnego użytkownika odzieży.</th>\n",
       "      <th>Odział</th>\n",
       "      <th>Jednostka</th>\n",
       "      <th>Grupa</th>\n",
       "    </tr>\n",
       "  </thead>\n",
       "  <tbody>\n",
       "    <tr>\n",
       "      <th>0</th>\n",
       "      <td>POZNAŃ GROBLA</td>\n",
       "      <td>40000FA2717</td>\n",
       "      <td>BLUZA GRANAT</td>\n",
       "      <td>1</td>\n",
       "      <td>P0000751</td>\n",
       "      <td>0</td>\n",
       "      <td>POZNAŃ</td>\n",
       "      <td>GROBLA</td>\n",
       "      <td>2</td>\n",
       "    </tr>\n",
       "    <tr>\n",
       "      <th>1</th>\n",
       "      <td>POZNAŃ GROBLA</td>\n",
       "      <td>40000FA2FD0</td>\n",
       "      <td>BLUZA GRANAT</td>\n",
       "      <td>0</td>\n",
       "      <td>C0000765</td>\n",
       "      <td>0</td>\n",
       "      <td>POZNAŃ</td>\n",
       "      <td>GROBLA</td>\n",
       "      <td>1</td>\n",
       "    </tr>\n",
       "    <tr>\n",
       "      <th>2</th>\n",
       "      <td>POZNAŃ GROBLA</td>\n",
       "      <td>40000FA32B7</td>\n",
       "      <td>BLUZA GRANAT</td>\n",
       "      <td>0</td>\n",
       "      <td>C0000765</td>\n",
       "      <td>0</td>\n",
       "      <td>POZNAŃ</td>\n",
       "      <td>GROBLA</td>\n",
       "      <td>1</td>\n",
       "    </tr>\n",
       "    <tr>\n",
       "      <th>3</th>\n",
       "      <td>POZNAŃ GROBLA</td>\n",
       "      <td>40000FA32ED</td>\n",
       "      <td>BLUZA GRANAT</td>\n",
       "      <td>0</td>\n",
       "      <td>P0000067</td>\n",
       "      <td>0</td>\n",
       "      <td>POZNAŃ</td>\n",
       "      <td>GROBLA</td>\n",
       "      <td>3</td>\n",
       "    </tr>\n",
       "    <tr>\n",
       "      <th>4</th>\n",
       "      <td>POZNAŃ GROBLA</td>\n",
       "      <td>6C0001B13AC</td>\n",
       "      <td>BLUZA GRANAT</td>\n",
       "      <td>1</td>\n",
       "      <td>P0000758</td>\n",
       "      <td>1</td>\n",
       "      <td>POZNAŃ</td>\n",
       "      <td>GROBLA</td>\n",
       "      <td>3</td>\n",
       "    </tr>\n",
       "  </tbody>\n",
       "</table>\n",
       "</div>"
      ],
      "text/plain": [
       "           Nazwa Tożsamość odzieży          Opis  Ilość prań      Imię  \\\n",
       "0  POZNAŃ GROBLA       40000FA2717  BLUZA GRANAT           1  P0000751   \n",
       "1  POZNAŃ GROBLA       40000FA2FD0  BLUZA GRANAT           0  C0000765   \n",
       "2  POZNAŃ GROBLA       40000FA32B7  BLUZA GRANAT           0  C0000765   \n",
       "3  POZNAŃ GROBLA       40000FA32ED  BLUZA GRANAT           0  P0000067   \n",
       "4  POZNAŃ GROBLA       6C0001B13AC  BLUZA GRANAT           1  P0000758   \n",
       "\n",
       "   Liczba prań dla aktualnego użytkownika odzieży.  Odział Jednostka  Grupa  \n",
       "0                                                0  POZNAŃ    GROBLA      2  \n",
       "1                                                0  POZNAŃ    GROBLA      1  \n",
       "2                                                0  POZNAŃ    GROBLA      1  \n",
       "3                                                0  POZNAŃ    GROBLA      3  \n",
       "4                                                1  POZNAŃ    GROBLA      3  "
      ]
     },
     "execution_count": 71,
     "metadata": {},
     "output_type": "execute_result"
    }
   ],
   "source": [
    "df.head()"
   ]
  },
  {
   "cell_type": "markdown",
   "id": "30683453",
   "metadata": {},
   "source": [
    "#### Zapisujemy data frame do pliku z znacznikiem daty"
   ]
  },
  {
   "cell_type": "code",
   "execution_count": 72,
   "id": "970914bc",
   "metadata": {},
   "outputs": [],
   "source": [
    "date = datetime.date.today()"
   ]
  },
  {
   "cell_type": "code",
   "execution_count": 73,
   "id": "1556e77f",
   "metadata": {},
   "outputs": [
    {
     "name": "stdout",
     "output_type": "stream",
     "text": [
      "database_2023-02-10\n"
     ]
    }
   ],
   "source": [
    "print('database_{}'.format(date))"
   ]
  },
  {
   "cell_type": "code",
   "execution_count": 74,
   "id": "1eb0d0c8",
   "metadata": {},
   "outputs": [],
   "source": [
    "excelWriter = pd.ExcelWriter(r'F:\\test_{}.xlsx'.format(date))"
   ]
  },
  {
   "cell_type": "code",
   "execution_count": 75,
   "id": "f32e5839",
   "metadata": {},
   "outputs": [],
   "source": [
    "df.to_excel(excelWriter)"
   ]
  },
  {
   "cell_type": "code",
   "execution_count": 76,
   "id": "3861905c",
   "metadata": {},
   "outputs": [],
   "source": [
    "excelWriter.save()"
   ]
  },
  {
   "cell_type": "markdown",
   "id": "0164f63f",
   "metadata": {},
   "source": [
    "Tabele z znacznikiem daty są niezbędne do porównań zmian w ilościach prania na poszczególnych elementach wyposażenia. Co z kolei pozwoli na sprawdzenie z fakturą. Usługa prania jest fakturowana w cyklu tygodniowym. \n",
    "***\n",
    "Wykorzystanie grupby po Oddziale a następnie funkcji get_group pozwala na przygotowanie automatycznych raportów dla pracowników danego oddziału"
   ]
  },
  {
   "cell_type": "code",
   "execution_count": null,
   "id": "0de30748",
   "metadata": {},
   "outputs": [],
   "source": []
  }
 ],
 "metadata": {
  "kernelspec": {
   "display_name": "Python 3 (ipykernel)",
   "language": "python",
   "name": "python3"
  },
  "language_info": {
   "codemirror_mode": {
    "name": "ipython",
    "version": 3
   },
   "file_extension": ".py",
   "mimetype": "text/x-python",
   "name": "python",
   "nbconvert_exporter": "python",
   "pygments_lexer": "ipython3",
   "version": "3.9.15"
  }
 },
 "nbformat": 4,
 "nbformat_minor": 5
}
